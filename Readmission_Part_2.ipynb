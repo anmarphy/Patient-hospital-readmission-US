{
 "cells": [
  {
   "cell_type": "markdown",
   "metadata": {},
   "source": [
    "# Machine learning framework for prediction of patient-hospital readmission in US\n",
    "### Part 2: Binary Classification Models\n",
    "#### Author: Andrea Marcela Huerfano Barbosa \n",
    "##### Modified: Apr 2022"
   ]
  },
  {
   "cell_type": "markdown",
   "metadata": {},
   "source": [
    "### Contents\n",
    "* [I. Loading the final dataset](#I.-Loading-the-final-dataset)\n",
    "* [II. Model Performance](#II.-Model-Performance)\n",
    "* [III. Unbalanced dataset](#III.-Unbalanced-dataset)\n",
    "    * [1. Logistic Regression](#1.-Logistic-Regression)\n",
    "    * [2. Weighted Logistic Regression](#2.-Weighted-Logistic-Regression)\n",
    "    * [3. Artificial Neuronal Network](#3.-Artificial-Neuronal-Network)\n",
    "    * [Model comparision](#Model-comparision)\n",
    "* [IV. Oversampling](#IV.-Oversampling )\n",
    "    * [1. Logistic Regression](#1.-Logistic-Regression-Model)\n",
    "    * [2. KNeighbors](#2.-KNeighbors)\n",
    "    * [3. Decision Tree Classifier](#3.-Decision-Tree-Classifier)\n",
    "    * [4. Random Forest](#4.-Random-Forest)\n",
    "    * [Model Comparision](#Model-Comparision)\n",
    "* [V. Insights](#V.-Insights)\n",
    "* [VI. Conclusions](#VI.-Conclusions)\n"
   ]
  },
  {
   "cell_type": "markdown",
   "metadata": {},
   "source": [
    "### I. Loading the final dataset"
   ]
  },
  {
   "cell_type": "markdown",
   "metadata": {},
   "source": [
    "Importing some libraries and fuctions."
   ]
  },
  {
   "cell_type": "code",
   "execution_count": 1,
   "metadata": {},
   "outputs": [],
   "source": [
    "from __future__ import absolute_import, division, print_function, unicode_literals\n",
    "import pandas as pd\n",
    "import numpy as np\n",
    "import matplotlib.pyplot as plt\n",
    "import sklearn\n",
    "from sklearn.model_selection import train_test_split\n",
    "from sklearn.metrics import confusion_matrix\n",
    "from sklearn.metrics import accuracy_score, recall_score, precision_score, f1_score\n",
    "from sklearn.metrics import confusion_matrix\n",
    "from sklearn.linear_model import LogisticRegression\n",
    "from sklearn.preprocessing import StandardScaler\n",
    "from sklearn.tree import DecisionTreeClassifier\n",
    "from sklearn.ensemble import RandomForestClassifier\n",
    "from sklearn.neighbors import KNeighborsClassifier \n",
    "from sklearn.feature_selection import f_regression\n",
    "from sklearn.model_selection import GridSearchCV\n",
    "from collections import Counter\n",
    "from imblearn.over_sampling import SMOTE\n",
    "from yellowbrick.model_selection import FeatureImportances\n",
    "from tensorflow.keras.models import Model\n",
    "from tensorflow.keras.layers import Dense, Input, Activation, Dropout\n",
    "from tensorflow.keras.utils import plot_model\n",
    "from tensorflow.keras. metrics import FalseNegatives, FalsePositives, TrueNegatives\n",
    "from tensorflow.keras. metrics import TruePositives, Precision, Recall\n",
    "from tensorflow.keras.optimizers import Adam\n",
    "from tensorflow.keras import callbacks\n",
    "import seaborn as sns\n",
    "import time\n",
    "sns.set()"
   ]
  },
  {
   "cell_type": "code",
   "execution_count": 2,
   "metadata": {},
   "outputs": [],
   "source": [
    "time_start = time.time()"
   ]
  },
  {
   "cell_type": "code",
   "execution_count": 3,
   "metadata": {},
   "outputs": [
    {
     "name": "stdout",
     "output_type": "stream",
     "text": [
      "The input contains 56195 columns and  57 rows\n"
     ]
    }
   ],
   "source": [
    "dataset=pd.read_csv('Clean_readmitted_apr2022.csv')\n",
    "print('The input contains', dataset.shape[0], 'columns and ' , dataset.shape[1], 'rows')"
   ]
  },
  {
   "cell_type": "code",
   "execution_count": 4,
   "metadata": {},
   "outputs": [
    {
     "data": {
      "text/html": [
       "<div>\n",
       "<style scoped>\n",
       "    .dataframe tbody tr th:only-of-type {\n",
       "        vertical-align: middle;\n",
       "    }\n",
       "\n",
       "    .dataframe tbody tr th {\n",
       "        vertical-align: top;\n",
       "    }\n",
       "\n",
       "    .dataframe thead th {\n",
       "        text-align: right;\n",
       "    }\n",
       "</style>\n",
       "<table border=\"1\" class=\"dataframe\">\n",
       "  <thead>\n",
       "    <tr style=\"text-align: right;\">\n",
       "      <th></th>\n",
       "      <th>0</th>\n",
       "      <th>1</th>\n",
       "      <th>2</th>\n",
       "    </tr>\n",
       "  </thead>\n",
       "  <tbody>\n",
       "    <tr>\n",
       "      <th>Unnamed: 0</th>\n",
       "      <td>4267</td>\n",
       "      <td>5827</td>\n",
       "      <td>67608</td>\n",
       "    </tr>\n",
       "    <tr>\n",
       "      <th>encounter_id</th>\n",
       "      <td>24437208</td>\n",
       "      <td>29758806</td>\n",
       "      <td>189899286</td>\n",
       "    </tr>\n",
       "    <tr>\n",
       "      <th>patient_nbr</th>\n",
       "      <td>135</td>\n",
       "      <td>378</td>\n",
       "      <td>729</td>\n",
       "    </tr>\n",
       "    <tr>\n",
       "      <th>time_in_hospital</th>\n",
       "      <td>8</td>\n",
       "      <td>2</td>\n",
       "      <td>4</td>\n",
       "    </tr>\n",
       "    <tr>\n",
       "      <th>num_lab_procedures</th>\n",
       "      <td>77</td>\n",
       "      <td>49</td>\n",
       "      <td>68</td>\n",
       "    </tr>\n",
       "    <tr>\n",
       "      <th>num_procedures</th>\n",
       "      <td>6</td>\n",
       "      <td>1</td>\n",
       "      <td>2</td>\n",
       "    </tr>\n",
       "    <tr>\n",
       "      <th>num_medications</th>\n",
       "      <td>33</td>\n",
       "      <td>11</td>\n",
       "      <td>23</td>\n",
       "    </tr>\n",
       "    <tr>\n",
       "      <th>number_outpatient</th>\n",
       "      <td>0</td>\n",
       "      <td>0</td>\n",
       "      <td>0</td>\n",
       "    </tr>\n",
       "    <tr>\n",
       "      <th>number_emergency</th>\n",
       "      <td>0</td>\n",
       "      <td>0</td>\n",
       "      <td>0</td>\n",
       "    </tr>\n",
       "    <tr>\n",
       "      <th>number_inpatient</th>\n",
       "      <td>0</td>\n",
       "      <td>0</td>\n",
       "      <td>0</td>\n",
       "    </tr>\n",
       "    <tr>\n",
       "      <th>number_diagnoses</th>\n",
       "      <td>8</td>\n",
       "      <td>3</td>\n",
       "      <td>9</td>\n",
       "    </tr>\n",
       "    <tr>\n",
       "      <th>change</th>\n",
       "      <td>1</td>\n",
       "      <td>0</td>\n",
       "      <td>0</td>\n",
       "    </tr>\n",
       "    <tr>\n",
       "      <th>diabetesMed</th>\n",
       "      <td>1</td>\n",
       "      <td>0</td>\n",
       "      <td>1</td>\n",
       "    </tr>\n",
       "    <tr>\n",
       "      <th>readmitted</th>\n",
       "      <td>1</td>\n",
       "      <td>0</td>\n",
       "      <td>0</td>\n",
       "    </tr>\n",
       "    <tr>\n",
       "      <th>admission_type</th>\n",
       "      <td>1</td>\n",
       "      <td>1</td>\n",
       "      <td>0</td>\n",
       "    </tr>\n",
       "    <tr>\n",
       "      <th>Discharged_type</th>\n",
       "      <td>0</td>\n",
       "      <td>0</td>\n",
       "      <td>1</td>\n",
       "    </tr>\n",
       "    <tr>\n",
       "      <th>Admision_source</th>\n",
       "      <td>0</td>\n",
       "      <td>0</td>\n",
       "      <td>1</td>\n",
       "    </tr>\n",
       "    <tr>\n",
       "      <th>race_AfricanAmerican</th>\n",
       "      <td>0</td>\n",
       "      <td>0</td>\n",
       "      <td>0</td>\n",
       "    </tr>\n",
       "    <tr>\n",
       "      <th>race_Asian</th>\n",
       "      <td>0</td>\n",
       "      <td>0</td>\n",
       "      <td>0</td>\n",
       "    </tr>\n",
       "    <tr>\n",
       "      <th>race_Caucasian</th>\n",
       "      <td>1</td>\n",
       "      <td>1</td>\n",
       "      <td>1</td>\n",
       "    </tr>\n",
       "    <tr>\n",
       "      <th>race_Hispanic</th>\n",
       "      <td>0</td>\n",
       "      <td>0</td>\n",
       "      <td>0</td>\n",
       "    </tr>\n",
       "    <tr>\n",
       "      <th>race_Other</th>\n",
       "      <td>0</td>\n",
       "      <td>0</td>\n",
       "      <td>0</td>\n",
       "    </tr>\n",
       "    <tr>\n",
       "      <th>gender_Female</th>\n",
       "      <td>1</td>\n",
       "      <td>1</td>\n",
       "      <td>1</td>\n",
       "    </tr>\n",
       "    <tr>\n",
       "      <th>gender_Male</th>\n",
       "      <td>0</td>\n",
       "      <td>0</td>\n",
       "      <td>0</td>\n",
       "    </tr>\n",
       "    <tr>\n",
       "      <th>insulin_Down</th>\n",
       "      <td>0</td>\n",
       "      <td>0</td>\n",
       "      <td>0</td>\n",
       "    </tr>\n",
       "    <tr>\n",
       "      <th>insulin_No</th>\n",
       "      <td>0</td>\n",
       "      <td>1</td>\n",
       "      <td>1</td>\n",
       "    </tr>\n",
       "    <tr>\n",
       "      <th>insulin_Steady</th>\n",
       "      <td>1</td>\n",
       "      <td>0</td>\n",
       "      <td>0</td>\n",
       "    </tr>\n",
       "    <tr>\n",
       "      <th>insulin_Up</th>\n",
       "      <td>0</td>\n",
       "      <td>0</td>\n",
       "      <td>0</td>\n",
       "    </tr>\n",
       "    <tr>\n",
       "      <th>age_Between_fourty_sixty</th>\n",
       "      <td>1</td>\n",
       "      <td>1</td>\n",
       "      <td>0</td>\n",
       "    </tr>\n",
       "    <tr>\n",
       "      <th>age_Between_sixty_seventy</th>\n",
       "      <td>0</td>\n",
       "      <td>0</td>\n",
       "      <td>0</td>\n",
       "    </tr>\n",
       "    <tr>\n",
       "      <th>age_Greater_seventy</th>\n",
       "      <td>0</td>\n",
       "      <td>0</td>\n",
       "      <td>1</td>\n",
       "    </tr>\n",
       "    <tr>\n",
       "      <th>age_Less_fourty</th>\n",
       "      <td>0</td>\n",
       "      <td>0</td>\n",
       "      <td>0</td>\n",
       "    </tr>\n",
       "    <tr>\n",
       "      <th>A1Cresult_7</th>\n",
       "      <td>0</td>\n",
       "      <td>0</td>\n",
       "      <td>1</td>\n",
       "    </tr>\n",
       "    <tr>\n",
       "      <th>A1Cresult_8</th>\n",
       "      <td>0</td>\n",
       "      <td>0</td>\n",
       "      <td>0</td>\n",
       "    </tr>\n",
       "    <tr>\n",
       "      <th>A1Cresult_None</th>\n",
       "      <td>1</td>\n",
       "      <td>1</td>\n",
       "      <td>0</td>\n",
       "    </tr>\n",
       "    <tr>\n",
       "      <th>A1Cresult_Norm</th>\n",
       "      <td>0</td>\n",
       "      <td>0</td>\n",
       "      <td>0</td>\n",
       "    </tr>\n",
       "    <tr>\n",
       "      <th>diag_type_Circulatory</th>\n",
       "      <td>1</td>\n",
       "      <td>0</td>\n",
       "      <td>0</td>\n",
       "    </tr>\n",
       "    <tr>\n",
       "      <th>diag_type_Diabetes</th>\n",
       "      <td>0</td>\n",
       "      <td>0</td>\n",
       "      <td>0</td>\n",
       "    </tr>\n",
       "    <tr>\n",
       "      <th>diag_type_Digestive</th>\n",
       "      <td>0</td>\n",
       "      <td>0</td>\n",
       "      <td>0</td>\n",
       "    </tr>\n",
       "    <tr>\n",
       "      <th>diag_type_Genitourinary</th>\n",
       "      <td>0</td>\n",
       "      <td>0</td>\n",
       "      <td>0</td>\n",
       "    </tr>\n",
       "    <tr>\n",
       "      <th>diag_type_Injury</th>\n",
       "      <td>0</td>\n",
       "      <td>0</td>\n",
       "      <td>1</td>\n",
       "    </tr>\n",
       "    <tr>\n",
       "      <th>diag_type_Musculoskeletal</th>\n",
       "      <td>0</td>\n",
       "      <td>1</td>\n",
       "      <td>0</td>\n",
       "    </tr>\n",
       "    <tr>\n",
       "      <th>diag_type_Neoplasms</th>\n",
       "      <td>0</td>\n",
       "      <td>0</td>\n",
       "      <td>0</td>\n",
       "    </tr>\n",
       "    <tr>\n",
       "      <th>diag_type_Other</th>\n",
       "      <td>0</td>\n",
       "      <td>0</td>\n",
       "      <td>0</td>\n",
       "    </tr>\n",
       "    <tr>\n",
       "      <th>diag_type_Respiratory</th>\n",
       "      <td>0</td>\n",
       "      <td>0</td>\n",
       "      <td>0</td>\n",
       "    </tr>\n",
       "    <tr>\n",
       "      <th>metformin_Down</th>\n",
       "      <td>0</td>\n",
       "      <td>0</td>\n",
       "      <td>0</td>\n",
       "    </tr>\n",
       "    <tr>\n",
       "      <th>metformin_No</th>\n",
       "      <td>0</td>\n",
       "      <td>1</td>\n",
       "      <td>0</td>\n",
       "    </tr>\n",
       "    <tr>\n",
       "      <th>metformin_Steady</th>\n",
       "      <td>1</td>\n",
       "      <td>0</td>\n",
       "      <td>1</td>\n",
       "    </tr>\n",
       "    <tr>\n",
       "      <th>metformin_Up</th>\n",
       "      <td>0</td>\n",
       "      <td>0</td>\n",
       "      <td>0</td>\n",
       "    </tr>\n",
       "    <tr>\n",
       "      <th>glipizide_Down</th>\n",
       "      <td>0</td>\n",
       "      <td>0</td>\n",
       "      <td>0</td>\n",
       "    </tr>\n",
       "    <tr>\n",
       "      <th>glipizide_No</th>\n",
       "      <td>1</td>\n",
       "      <td>1</td>\n",
       "      <td>1</td>\n",
       "    </tr>\n",
       "    <tr>\n",
       "      <th>glipizide_Steady</th>\n",
       "      <td>0</td>\n",
       "      <td>0</td>\n",
       "      <td>0</td>\n",
       "    </tr>\n",
       "    <tr>\n",
       "      <th>glipizide_Up</th>\n",
       "      <td>0</td>\n",
       "      <td>0</td>\n",
       "      <td>0</td>\n",
       "    </tr>\n",
       "    <tr>\n",
       "      <th>glyburide_Down</th>\n",
       "      <td>1</td>\n",
       "      <td>0</td>\n",
       "      <td>0</td>\n",
       "    </tr>\n",
       "    <tr>\n",
       "      <th>glyburide_No</th>\n",
       "      <td>0</td>\n",
       "      <td>1</td>\n",
       "      <td>1</td>\n",
       "    </tr>\n",
       "    <tr>\n",
       "      <th>glyburide_Steady</th>\n",
       "      <td>0</td>\n",
       "      <td>0</td>\n",
       "      <td>0</td>\n",
       "    </tr>\n",
       "    <tr>\n",
       "      <th>glyburide_Up</th>\n",
       "      <td>0</td>\n",
       "      <td>0</td>\n",
       "      <td>0</td>\n",
       "    </tr>\n",
       "  </tbody>\n",
       "</table>\n",
       "</div>"
      ],
      "text/plain": [
       "                                  0         1          2\n",
       "Unnamed: 0                     4267      5827      67608\n",
       "encounter_id               24437208  29758806  189899286\n",
       "patient_nbr                     135       378        729\n",
       "time_in_hospital                  8         2          4\n",
       "num_lab_procedures               77        49         68\n",
       "num_procedures                    6         1          2\n",
       "num_medications                  33        11         23\n",
       "number_outpatient                 0         0          0\n",
       "number_emergency                  0         0          0\n",
       "number_inpatient                  0         0          0\n",
       "number_diagnoses                  8         3          9\n",
       "change                            1         0          0\n",
       "diabetesMed                       1         0          1\n",
       "readmitted                        1         0          0\n",
       "admission_type                    1         1          0\n",
       "Discharged_type                   0         0          1\n",
       "Admision_source                   0         0          1\n",
       "race_AfricanAmerican              0         0          0\n",
       "race_Asian                        0         0          0\n",
       "race_Caucasian                    1         1          1\n",
       "race_Hispanic                     0         0          0\n",
       "race_Other                        0         0          0\n",
       "gender_Female                     1         1          1\n",
       "gender_Male                       0         0          0\n",
       "insulin_Down                      0         0          0\n",
       "insulin_No                        0         1          1\n",
       "insulin_Steady                    1         0          0\n",
       "insulin_Up                        0         0          0\n",
       "age_Between_fourty_sixty          1         1          0\n",
       "age_Between_sixty_seventy         0         0          0\n",
       "age_Greater_seventy               0         0          1\n",
       "age_Less_fourty                   0         0          0\n",
       "A1Cresult_7                       0         0          1\n",
       "A1Cresult_8                       0         0          0\n",
       "A1Cresult_None                    1         1          0\n",
       "A1Cresult_Norm                    0         0          0\n",
       "diag_type_Circulatory             1         0          0\n",
       "diag_type_Diabetes                0         0          0\n",
       "diag_type_Digestive               0         0          0\n",
       "diag_type_Genitourinary           0         0          0\n",
       "diag_type_Injury                  0         0          1\n",
       "diag_type_Musculoskeletal         0         1          0\n",
       "diag_type_Neoplasms               0         0          0\n",
       "diag_type_Other                   0         0          0\n",
       "diag_type_Respiratory             0         0          0\n",
       "metformin_Down                    0         0          0\n",
       "metformin_No                      0         1          0\n",
       "metformin_Steady                  1         0          1\n",
       "metformin_Up                      0         0          0\n",
       "glipizide_Down                    0         0          0\n",
       "glipizide_No                      1         1          1\n",
       "glipizide_Steady                  0         0          0\n",
       "glipizide_Up                      0         0          0\n",
       "glyburide_Down                    1         0          0\n",
       "glyburide_No                      0         1          1\n",
       "glyburide_Steady                  0         0          0\n",
       "glyburide_Up                      0         0          0"
      ]
     },
     "execution_count": 4,
     "metadata": {},
     "output_type": "execute_result"
    }
   ],
   "source": [
    "dataset.head(n=3).T"
   ]
  },
  {
   "cell_type": "markdown",
   "metadata": {},
   "source": [
    "## II. Model Performance"
   ]
  },
  {
   "cell_type": "markdown",
   "metadata": {},
   "source": [
    "Since the readmission correspond to a binary classification. I am going to use the following metrics to compare the performance across the models:\n",
    "\n",
    "- Confussion Matrix\n",
    "- Precision \n",
    "- Recall \n",
    "- F_1"
   ]
  },
  {
   "cell_type": "code",
   "execution_count": 5,
   "metadata": {},
   "outputs": [],
   "source": [
    "def model_performance(model_prediction):\n",
    "    cfm = confusion_matrix(y_test, model_prediction)\n",
    "\n",
    "    true_negative = cfm[0][0]\n",
    "    false_positive = cfm[0][1]\n",
    "    false_negative = cfm[1][0]\n",
    "    true_positive = cfm[1][1]\n",
    "\n",
    "    Precision=round(precision_score(y_test, model_prediction),3)\n",
    "    Recall=round(recall_score(y_test, model_prediction),3)\n",
    "    F_1=round(f1_score(y_test, model_prediction),3)\n",
    "    \n",
    "    print('Confusion Matrix: \\n', cfm, '\\n')\n",
    "\n",
    "    print('True Negative:', true_negative)\n",
    "    print('False Positive:', false_positive)\n",
    "    print('False Negative:', false_negative)\n",
    "    print('True Positive:', true_positive,'\\n')\n",
    "    \n",
    "    print ('Precision: {}'.format(Precision) )\n",
    "    print ('Recall: {}'.format(Recall))\n",
    "    print ('F_1: {}'.format(F_1))"
   ]
  },
  {
   "cell_type": "markdown",
   "metadata": {},
   "source": [
    "### III. Unbalanced dataset\n",
    "The readmitted classes follow a unbalance distribution since the majority of patients haven't been readmitted (92.7%)."
   ]
  },
  {
   "cell_type": "code",
   "execution_count": 6,
   "metadata": {},
   "outputs": [
    {
     "data": {
      "text/html": [
       "<div>\n",
       "<style scoped>\n",
       "    .dataframe tbody tr th:only-of-type {\n",
       "        vertical-align: middle;\n",
       "    }\n",
       "\n",
       "    .dataframe tbody tr th {\n",
       "        vertical-align: top;\n",
       "    }\n",
       "\n",
       "    .dataframe thead th {\n",
       "        text-align: right;\n",
       "    }\n",
       "</style>\n",
       "<table border=\"1\" class=\"dataframe\">\n",
       "  <thead>\n",
       "    <tr style=\"text-align: right;\">\n",
       "      <th></th>\n",
       "      <th>% Total</th>\n",
       "    </tr>\n",
       "    <tr>\n",
       "      <th>readmitted</th>\n",
       "      <th></th>\n",
       "    </tr>\n",
       "  </thead>\n",
       "  <tbody>\n",
       "    <tr>\n",
       "      <th>0</th>\n",
       "      <td>92.7</td>\n",
       "    </tr>\n",
       "    <tr>\n",
       "      <th>1</th>\n",
       "      <td>7.3</td>\n",
       "    </tr>\n",
       "    <tr>\n",
       "      <th>All</th>\n",
       "      <td>100.0</td>\n",
       "    </tr>\n",
       "  </tbody>\n",
       "</table>\n",
       "</div>"
      ],
      "text/plain": [
       "            % Total\n",
       "readmitted         \n",
       "0              92.7\n",
       "1               7.3\n",
       "All           100.0"
      ]
     },
     "execution_count": 6,
     "metadata": {},
     "output_type": "execute_result"
    }
   ],
   "source": [
    "func = lambda x: round(100*x.count()/dataset.shape[0],1)\n",
    "readmitted_distribution=dataset.pivot_table(index='readmitted', values='encounter_id', aggfunc=func, margins=True)\n",
    "readmitted_distribution.columns=['% Total']\n",
    "readmitted_distribution"
   ]
  },
  {
   "cell_type": "markdown",
   "metadata": {},
   "source": [
    "Splitting into train and test sets"
   ]
  },
  {
   "cell_type": "code",
   "execution_count": 7,
   "metadata": {},
   "outputs": [
    {
     "name": "stdout",
     "output_type": "stream",
     "text": [
      "Training samples: 44956\n",
      "Testing samples: 11239\n",
      "Number of features: 52\n",
      "Training outcome distribution: [41689  3267]\n",
      "Testing outcome distribution: [10422   817]\n"
     ]
    }
   ],
   "source": [
    "X=dataset.drop([ 'Unnamed: 0','encounter_id', 'patient_nbr', 'gender_Female','readmitted'] , axis=1)\n",
    "y=dataset['readmitted']\n",
    "\n",
    "X_train, X_test, y_train, y_test = train_test_split(X, y,\n",
    "                                                    test_size=0.2,\n",
    "                                                    stratify=y,\n",
    "                                                    random_state=42)\n",
    "\n",
    "print('Training samples: {}'.format(X_train.shape[0]))\n",
    "print('Testing samples: {}'.format(X_test.shape[0]))\n",
    "print('Number of features: {}'.format(X_train.shape[1]))\n",
    "print('Training outcome distribution: {}'.format(np.bincount(y_train)))\n",
    "print('Testing outcome distribution: {}'.format(np.bincount(y_test)))"
   ]
  },
  {
   "cell_type": "markdown",
   "metadata": {},
   "source": [
    "#### 1. Logistic Regression"
   ]
  },
  {
   "cell_type": "code",
   "execution_count": 8,
   "metadata": {},
   "outputs": [
    {
     "name": "stderr",
     "output_type": "stream",
     "text": [
      "/Users/anmarphy/opt/anaconda3/lib/python3.8/site-packages/sklearn/linear_model/_logistic.py:762: ConvergenceWarning: lbfgs failed to converge (status=1):\n",
      "STOP: TOTAL NO. of ITERATIONS REACHED LIMIT.\n",
      "\n",
      "Increase the number of iterations (max_iter) or scale the data as shown in:\n",
      "    https://scikit-learn.org/stable/modules/preprocessing.html\n",
      "Please also refer to the documentation for alternative solver options:\n",
      "    https://scikit-learn.org/stable/modules/linear_model.html#logistic-regression\n",
      "  n_iter_i = _check_optimize_result(\n"
     ]
    }
   ],
   "source": [
    "from sklearn.linear_model import LogisticRegression\n",
    "classifier = LogisticRegression(max_iter=500,random_state=0)\n",
    "classifier.fit(X_train, y_train)\n",
    "logistic_prediction = classifier.predict(X_test)"
   ]
  },
  {
   "cell_type": "code",
   "execution_count": 9,
   "metadata": {},
   "outputs": [
    {
     "name": "stdout",
     "output_type": "stream",
     "text": [
      "Confusion Matrix: \n",
      " [[10416     6]\n",
      " [  814     3]] \n",
      "\n",
      "True Negative: 10416\n",
      "False Positive: 6\n",
      "False Negative: 814\n",
      "True Positive: 3 \n",
      "\n",
      "Precision: 0.333\n",
      "Recall: 0.004\n",
      "F_1: 0.007\n"
     ]
    }
   ],
   "source": [
    "model_performance(logistic_prediction)"
   ]
  },
  {
   "cell_type": "markdown",
   "metadata": {},
   "source": [
    "This model is not captured well those readmitted patients. "
   ]
  },
  {
   "cell_type": "markdown",
   "metadata": {},
   "source": [
    "#### 2. Weighted Logistic Regression"
   ]
  },
  {
   "cell_type": "code",
   "execution_count": 10,
   "metadata": {},
   "outputs": [],
   "source": [
    "counts = np.bincount(y)\n",
    "weight_for_0 = 1.0 / counts[0]\n",
    "weight_for_1 = 1.0 / counts[1]"
   ]
  },
  {
   "cell_type": "code",
   "execution_count": 11,
   "metadata": {},
   "outputs": [],
   "source": [
    "classifier = LogisticRegression(max_iter=500,random_state=0,class_weight='balanced') \n",
    "classifier.fit(X_train, y_train)\n",
    "weight_logistic_prediction = classifier.predict(X_test)"
   ]
  },
  {
   "cell_type": "code",
   "execution_count": 12,
   "metadata": {},
   "outputs": [
    {
     "name": "stdout",
     "output_type": "stream",
     "text": [
      "Confusion Matrix: \n",
      " [[6902 3520]\n",
      " [ 327  490]] \n",
      "\n",
      "True Negative: 6902\n",
      "False Positive: 3520\n",
      "False Negative: 327\n",
      "True Positive: 490 \n",
      "\n",
      "Precision: 0.122\n",
      "Recall: 0.6\n",
      "F_1: 0.203\n"
     ]
    }
   ],
   "source": [
    "model_performance(weight_logistic_prediction)"
   ]
  },
  {
   "cell_type": "markdown",
   "metadata": {},
   "source": [
    "The best fit was found under the option class\\_weight='balanced' but there is not a good generalization for admitted even when the metrics are better than in the previous model."
   ]
  },
  {
   "cell_type": "markdown",
   "metadata": {},
   "source": [
    "#### 3. Artificial Neuronal Network"
   ]
  },
  {
   "cell_type": "markdown",
   "metadata": {},
   "source": [
    "This is an artificial neural network with three densely-connected layers and use a relu activation function for the hidden layers and a sigmoid activation function for the output layer, as it is being used for a classification task. The loss function will be binary crossentropy."
   ]
  },
  {
   "cell_type": "code",
   "execution_count": 13,
   "metadata": {},
   "outputs": [
    {
     "name": "stdout",
     "output_type": "stream",
     "text": [
      "Model: \"model\"\n",
      "_________________________________________________________________\n",
      "Layer (type)                 Output Shape              Param #   \n",
      "=================================================================\n",
      "Input_layer (InputLayer)     [(None, 52)]              0         \n",
      "_________________________________________________________________\n",
      "activation (Activation)      (None, 52)                0         \n",
      "_________________________________________________________________\n",
      "First_hidden_layer (Dense)   (None, 256)               13568     \n",
      "_________________________________________________________________\n",
      "dropout (Dropout)            (None, 256)               0         \n",
      "_________________________________________________________________\n",
      "Second_hidden_layer (Dense)  (None, 256)               65792     \n",
      "_________________________________________________________________\n",
      "dropout_1 (Dropout)          (None, 256)               0         \n",
      "_________________________________________________________________\n",
      "Third_hidden_layer (Dense)   (None, 128)               32896     \n",
      "_________________________________________________________________\n",
      "Output_layer (Dense)         (None, 1)                 129       \n",
      "=================================================================\n",
      "Total params: 112,385\n",
      "Trainable params: 112,385\n",
      "Non-trainable params: 0\n",
      "_________________________________________________________________\n"
     ]
    },
    {
     "data": {
      "image/png": "[encoded data removed]",
      "text/plain": [
       "<IPython.core.display.Image object>"
      ]
     },
     "execution_count": 13,
     "metadata": {},
     "output_type": "execute_result"
    }
   ],
   "source": [
    "targets = y\n",
    "targets = np.array(targets, dtype = 'uint8')\n",
    "\n",
    "features = np.array(X,dtype = 'float32' )\n",
    "num_val_samples = int(len(features) * 0.2)\n",
    "train_features = features[:-num_val_samples]\n",
    "train_targets = targets[:-num_val_samples]\n",
    "val_features = features[-num_val_samples:]\n",
    "val_targets = targets[-num_val_samples:]\n",
    "\n",
    "scaler = StandardScaler()\n",
    "\n",
    "scaler.fit(train_features)\n",
    "train_features = scaler.transform(train_features)\n",
    "val_features = scaler.transform(val_features )\n",
    "\n",
    "\n",
    "counts = np.bincount(train_targets)\n",
    "weight_for_0 = 1.0 / counts[0]\n",
    "weight_for_1 = 1.0 / counts[1]\n",
    "\n",
    "inputs = Input(shape=(train_features.shape[1],),name='Input_layer')\n",
    "\n",
    "\n",
    "x = Activation('relu')(inputs)\n",
    "x = Dense(256, activation='relu',name='First_hidden_layer')(x)\n",
    "x = Dropout(0.3)(x)\n",
    "x = Dense(256, activation='relu',name='Second_hidden_layer')(x)\n",
    "x = Dropout(0.3)(x)\n",
    "x = Dense(128, activation='relu',name='Third_hidden_layer')(x)\n",
    "outputs = Dense(1, activation='sigmoid', name='Output_layer')(x)\n",
    "\n",
    "\n",
    "model = Model(inputs=inputs, outputs=outputs)\n",
    "model.summary()\n",
    "plot_model(model, to_file='readmission_model.png', \n",
    "           show_shapes=True)"
   ]
  },
  {
   "cell_type": "code",
   "execution_count": 14,
   "metadata": {},
   "outputs": [],
   "source": [
    "metrics = [\n",
    "    FalseNegatives(name=\"fn\"),\n",
    "    FalsePositives(name=\"fp\"),\n",
    "    TrueNegatives(name=\"tn\"),\n",
    "    TruePositives(name=\"tp\"),\n",
    "    Precision(name=\"precision\"),\n",
    "    Recall(name=\"recall\")]\n",
    "\n",
    "model.compile(optimizer=Adam(0.0001), loss=\"binary_crossentropy\", metrics=metrics)"
   ]
  },
  {
   "cell_type": "code",
   "execution_count": 15,
   "metadata": {},
   "outputs": [
    {
     "name": "stdout",
     "output_type": "stream",
     "text": [
      "Epoch 1/100\n",
      "22/22 - 4s - loss: 3.1129e-05 - fn: 1411.0000 - fp: 22607.0000 - tn: 19106.0000 - tp: 1832.0000 - precision: 0.0750 - recall: 0.5649 - val_loss: 0.7412 - val_fn: 191.0000 - val_fp: 7969.0000 - val_tn: 2429.0000 - val_tp: 650.0000 - val_precision: 0.0754 - val_recall: 0.7729\n",
      "Epoch 2/100\n",
      "22/22 - 1s - loss: 3.1115e-05 - fn: 1416.0000 - fp: 22969.0000 - tn: 18744.0000 - tp: 1827.0000 - precision: 0.0737 - recall: 0.5634 - val_loss: 0.7404 - val_fn: 179.0000 - val_fp: 7959.0000 - val_tn: 2439.0000 - val_tp: 662.0000 - val_precision: 0.0768 - val_recall: 0.7872\n",
      "Epoch 3/100\n",
      "22/22 - 1s - loss: 3.0979e-05 - fn: 1373.0000 - fp: 22575.0000 - tn: 19138.0000 - tp: 1870.0000 - precision: 0.0765 - recall: 0.5766 - val_loss: 0.7383 - val_fn: 173.0000 - val_fp: 7844.0000 - val_tn: 2554.0000 - val_tp: 668.0000 - val_precision: 0.0785 - val_recall: 0.7943\n",
      "Epoch 4/100\n",
      "22/22 - 1s - loss: 3.0899e-05 - fn: 1324.0000 - fp: 22489.0000 - tn: 19224.0000 - tp: 1919.0000 - precision: 0.0786 - recall: 0.5917 - val_loss: 0.7374 - val_fn: 162.0000 - val_fp: 7798.0000 - val_tn: 2600.0000 - val_tp: 679.0000 - val_precision: 0.0801 - val_recall: 0.8074\n",
      "Epoch 5/100\n",
      "22/22 - 1s - loss: 3.0901e-05 - fn: 1391.0000 - fp: 22328.0000 - tn: 19385.0000 - tp: 1852.0000 - precision: 0.0766 - recall: 0.5711 - val_loss: 0.7376 - val_fn: 153.0000 - val_fp: 7810.0000 - val_tn: 2588.0000 - val_tp: 688.0000 - val_precision: 0.0810 - val_recall: 0.8181\n",
      "Epoch 6/100\n",
      "22/22 - 1s - loss: 3.0798e-05 - fn: 1335.0000 - fp: 22501.0000 - tn: 19212.0000 - tp: 1908.0000 - precision: 0.0782 - recall: 0.5883 - val_loss: 0.7361 - val_fn: 150.0000 - val_fp: 7734.0000 - val_tn: 2664.0000 - val_tp: 691.0000 - val_precision: 0.0820 - val_recall: 0.8216\n",
      "Epoch 7/100\n",
      "22/22 - 1s - loss: 3.0731e-05 - fn: 1290.0000 - fp: 21979.0000 - tn: 19734.0000 - tp: 1953.0000 - precision: 0.0816 - recall: 0.6022 - val_loss: 0.7329 - val_fn: 154.0000 - val_fp: 7529.0000 - val_tn: 2869.0000 - val_tp: 687.0000 - val_precision: 0.0836 - val_recall: 0.8169\n",
      "Epoch 8/100\n",
      "22/22 - 1s - loss: 3.0738e-05 - fn: 1319.0000 - fp: 21894.0000 - tn: 19819.0000 - tp: 1924.0000 - precision: 0.0808 - recall: 0.5933 - val_loss: 0.7320 - val_fn: 154.0000 - val_fp: 7406.0000 - val_tn: 2992.0000 - val_tp: 687.0000 - val_precision: 0.0849 - val_recall: 0.8169\n",
      "Epoch 9/100\n",
      "22/22 - 1s - loss: 3.0606e-05 - fn: 1305.0000 - fp: 21238.0000 - tn: 20475.0000 - tp: 1938.0000 - precision: 0.0836 - recall: 0.5976 - val_loss: 0.7281 - val_fn: 166.0000 - val_fp: 7089.0000 - val_tn: 3309.0000 - val_tp: 675.0000 - val_precision: 0.0869 - val_recall: 0.8026\n",
      "Epoch 10/100\n",
      "22/22 - 1s - loss: 3.0533e-05 - fn: 1360.0000 - fp: 20484.0000 - tn: 21229.0000 - tp: 1883.0000 - precision: 0.0842 - recall: 0.5806 - val_loss: 0.7265 - val_fn: 174.0000 - val_fp: 6925.0000 - val_tn: 3473.0000 - val_tp: 667.0000 - val_precision: 0.0879 - val_recall: 0.7931\n",
      "Epoch 11/100\n",
      "22/22 - 1s - loss: 3.0439e-05 - fn: 1343.0000 - fp: 19991.0000 - tn: 21722.0000 - tp: 1900.0000 - precision: 0.0868 - recall: 0.5859 - val_loss: 0.7227 - val_fn: 185.0000 - val_fp: 6630.0000 - val_tn: 3768.0000 - val_tp: 656.0000 - val_precision: 0.0900 - val_recall: 0.7800\n",
      "Epoch 12/100\n",
      "22/22 - 1s - loss: 3.0421e-05 - fn: 1320.0000 - fp: 19718.0000 - tn: 21995.0000 - tp: 1923.0000 - precision: 0.0889 - recall: 0.5930 - val_loss: 0.7221 - val_fn: 193.0000 - val_fp: 6501.0000 - val_tn: 3897.0000 - val_tp: 648.0000 - val_precision: 0.0906 - val_recall: 0.7705\n",
      "Epoch 13/100\n",
      "22/22 - 1s - loss: 3.0396e-05 - fn: 1341.0000 - fp: 19568.0000 - tn: 22145.0000 - tp: 1902.0000 - precision: 0.0886 - recall: 0.5865 - val_loss: 0.7207 - val_fn: 205.0000 - val_fp: 6332.0000 - val_tn: 4066.0000 - val_tp: 636.0000 - val_precision: 0.0913 - val_recall: 0.7562\n",
      "Epoch 14/100\n",
      "22/22 - 1s - loss: 3.0375e-05 - fn: 1310.0000 - fp: 19602.0000 - tn: 22111.0000 - tp: 1933.0000 - precision: 0.0898 - recall: 0.5961 - val_loss: 0.7214 - val_fn: 208.0000 - val_fp: 6265.0000 - val_tn: 4133.0000 - val_tp: 633.0000 - val_precision: 0.0918 - val_recall: 0.7527\n",
      "Epoch 15/100\n",
      "22/22 - 1s - loss: 3.0349e-05 - fn: 1342.0000 - fp: 19357.0000 - tn: 22356.0000 - tp: 1901.0000 - precision: 0.0894 - recall: 0.5862 - val_loss: 0.7210 - val_fn: 211.0000 - val_fp: 6144.0000 - val_tn: 4254.0000 - val_tp: 630.0000 - val_precision: 0.0930 - val_recall: 0.7491\n",
      "Epoch 16/100\n",
      "22/22 - 1s - loss: 3.0241e-05 - fn: 1306.0000 - fp: 19110.0000 - tn: 22603.0000 - tp: 1937.0000 - precision: 0.0920 - recall: 0.5973 - val_loss: 0.7192 - val_fn: 222.0000 - val_fp: 5962.0000 - val_tn: 4436.0000 - val_tp: 619.0000 - val_precision: 0.0941 - val_recall: 0.7360\n",
      "Epoch 17/100\n",
      "22/22 - 1s - loss: 3.0301e-05 - fn: 1389.0000 - fp: 18641.0000 - tn: 23072.0000 - tp: 1854.0000 - precision: 0.0905 - recall: 0.5717 - val_loss: 0.7176 - val_fn: 235.0000 - val_fp: 5837.0000 - val_tn: 4561.0000 - val_tp: 606.0000 - val_precision: 0.0941 - val_recall: 0.7206\n",
      "Epoch 18/100\n",
      "22/22 - 1s - loss: 3.0132e-05 - fn: 1314.0000 - fp: 18758.0000 - tn: 22955.0000 - tp: 1929.0000 - precision: 0.0932 - recall: 0.5948 - val_loss: 0.7160 - val_fn: 241.0000 - val_fp: 5689.0000 - val_tn: 4709.0000 - val_tp: 600.0000 - val_precision: 0.0954 - val_recall: 0.7134\n",
      "Epoch 19/100\n",
      "22/22 - 1s - loss: 3.0062e-05 - fn: 1353.0000 - fp: 17499.0000 - tn: 24214.0000 - tp: 1890.0000 - precision: 0.0975 - recall: 0.5828 - val_loss: 0.7087 - val_fn: 260.0000 - val_fp: 5326.0000 - val_tn: 5072.0000 - val_tp: 581.0000 - val_precision: 0.0984 - val_recall: 0.6908\n",
      "Epoch 20/100\n",
      "22/22 - 1s - loss: 3.0049e-05 - fn: 1330.0000 - fp: 17591.0000 - tn: 24122.0000 - tp: 1913.0000 - precision: 0.0981 - recall: 0.5899 - val_loss: 0.7149 - val_fn: 245.0000 - val_fp: 5516.0000 - val_tn: 4882.0000 - val_tp: 596.0000 - val_precision: 0.0975 - val_recall: 0.7087\n",
      "Epoch 21/100\n",
      "22/22 - 1s - loss: 2.9977e-05 - fn: 1330.0000 - fp: 17713.0000 - tn: 24000.0000 - tp: 1913.0000 - precision: 0.0975 - recall: 0.5899 - val_loss: 0.7100 - val_fn: 259.0000 - val_fp: 5264.0000 - val_tn: 5134.0000 - val_tp: 582.0000 - val_precision: 0.0996 - val_recall: 0.6920\n",
      "Epoch 22/100\n",
      "22/22 - 1s - loss: 3.0039e-05 - fn: 1359.0000 - fp: 17483.0000 - tn: 24230.0000 - tp: 1884.0000 - precision: 0.0973 - recall: 0.5809 - val_loss: 0.7136 - val_fn: 252.0000 - val_fp: 5357.0000 - val_tn: 5041.0000 - val_tp: 589.0000 - val_precision: 0.0991 - val_recall: 0.7004\n",
      "Epoch 23/100\n",
      "22/22 - 1s - loss: 2.9969e-05 - fn: 1353.0000 - fp: 17384.0000 - tn: 24329.0000 - tp: 1890.0000 - precision: 0.0981 - recall: 0.5828 - val_loss: 0.7149 - val_fn: 250.0000 - val_fp: 5357.0000 - val_tn: 5041.0000 - val_tp: 591.0000 - val_precision: 0.0994 - val_recall: 0.7027\n",
      "Epoch 24/100\n",
      "22/22 - 1s - loss: 2.9900e-05 - fn: 1355.0000 - fp: 17459.0000 - tn: 24254.0000 - tp: 1888.0000 - precision: 0.0976 - recall: 0.5822 - val_loss: 0.7112 - val_fn: 260.0000 - val_fp: 5191.0000 - val_tn: 5207.0000 - val_tp: 581.0000 - val_precision: 0.1007 - val_recall: 0.6908\n",
      "Epoch 25/100\n",
      "22/22 - 1s - loss: 2.9865e-05 - fn: 1416.0000 - fp: 16361.0000 - tn: 25352.0000 - tp: 1827.0000 - precision: 0.1005 - recall: 0.5634 - val_loss: 0.7035 - val_fn: 282.0000 - val_fp: 4881.0000 - val_tn: 5517.0000 - val_tp: 559.0000 - val_precision: 0.1028 - val_recall: 0.6647\n",
      "Epoch 26/100\n",
      "22/22 - 1s - loss: 2.9816e-05 - fn: 1385.0000 - fp: 16338.0000 - tn: 25375.0000 - tp: 1858.0000 - precision: 0.1021 - recall: 0.5729 - val_loss: 0.7082 - val_fn: 270.0000 - val_fp: 5010.0000 - val_tn: 5388.0000 - val_tp: 571.0000 - val_precision: 0.1023 - val_recall: 0.6790\n",
      "Epoch 27/100\n",
      "22/22 - 1s - loss: 2.9742e-05 - fn: 1341.0000 - fp: 16684.0000 - tn: 25029.0000 - tp: 1902.0000 - precision: 0.1023 - recall: 0.5865 - val_loss: 0.7090 - val_fn: 271.0000 - val_fp: 4984.0000 - val_tn: 5414.0000 - val_tp: 570.0000 - val_precision: 0.1026 - val_recall: 0.6778\n",
      "Epoch 28/100\n",
      "22/22 - 1s - loss: 2.9852e-05 - fn: 1399.0000 - fp: 16658.0000 - tn: 25055.0000 - tp: 1844.0000 - precision: 0.0997 - recall: 0.5686 - val_loss: 0.7081 - val_fn: 276.0000 - val_fp: 4938.0000 - val_tn: 5460.0000 - val_tp: 565.0000 - val_precision: 0.1027 - val_recall: 0.6718\n",
      "Epoch 29/100\n",
      "22/22 - 1s - loss: 2.9832e-05 - fn: 1410.0000 - fp: 16167.0000 - tn: 25546.0000 - tp: 1833.0000 - precision: 0.1018 - recall: 0.5652 - val_loss: 0.7059 - val_fn: 283.0000 - val_fp: 4854.0000 - val_tn: 5544.0000 - val_tp: 558.0000 - val_precision: 0.1031 - val_recall: 0.6635\n"
     ]
    },
    {
     "name": "stdout",
     "output_type": "stream",
     "text": [
      "Epoch 30/100\n",
      "22/22 - 1s - loss: 2.9708e-05 - fn: 1385.0000 - fp: 16097.0000 - tn: 25616.0000 - tp: 1858.0000 - precision: 0.1035 - recall: 0.5729 - val_loss: 0.7081 - val_fn: 278.0000 - val_fp: 4892.0000 - val_tn: 5506.0000 - val_tp: 563.0000 - val_precision: 0.1032 - val_recall: 0.6694\n",
      "Epoch 31/100\n",
      "22/22 - 1s - loss: 2.9749e-05 - fn: 1425.0000 - fp: 16238.0000 - tn: 25475.0000 - tp: 1818.0000 - precision: 0.1007 - recall: 0.5606 - val_loss: 0.7059 - val_fn: 283.0000 - val_fp: 4806.0000 - val_tn: 5592.0000 - val_tp: 558.0000 - val_precision: 0.1040 - val_recall: 0.6635\n",
      "Epoch 32/100\n",
      "22/22 - 1s - loss: 2.9686e-05 - fn: 1385.0000 - fp: 15975.0000 - tn: 25738.0000 - tp: 1858.0000 - precision: 0.1042 - recall: 0.5729 - val_loss: 0.7053 - val_fn: 284.0000 - val_fp: 4775.0000 - val_tn: 5623.0000 - val_tp: 557.0000 - val_precision: 0.1045 - val_recall: 0.6623\n",
      "Epoch 33/100\n",
      "22/22 - 1s - loss: 2.9659e-05 - fn: 1376.0000 - fp: 15898.0000 - tn: 25815.0000 - tp: 1867.0000 - precision: 0.1051 - recall: 0.5757 - val_loss: 0.7003 - val_fn: 293.0000 - val_fp: 4633.0000 - val_tn: 5765.0000 - val_tp: 548.0000 - val_precision: 0.1058 - val_recall: 0.6516\n",
      "Epoch 34/100\n",
      "22/22 - 1s - loss: 2.9564e-05 - fn: 1364.0000 - fp: 15818.0000 - tn: 25895.0000 - tp: 1879.0000 - precision: 0.1062 - recall: 0.5794 - val_loss: 0.7054 - val_fn: 284.0000 - val_fp: 4759.0000 - val_tn: 5639.0000 - val_tp: 557.0000 - val_precision: 0.1048 - val_recall: 0.6623\n",
      "Epoch 35/100\n",
      "22/22 - 1s - loss: 2.9583e-05 - fn: 1395.0000 - fp: 15695.0000 - tn: 26018.0000 - tp: 1848.0000 - precision: 0.1053 - recall: 0.5698 - val_loss: 0.7028 - val_fn: 288.0000 - val_fp: 4684.0000 - val_tn: 5714.0000 - val_tp: 553.0000 - val_precision: 0.1056 - val_recall: 0.6576\n",
      "Epoch 36/100\n",
      "22/22 - 1s - loss: 2.9601e-05 - fn: 1398.0000 - fp: 15452.0000 - tn: 26261.0000 - tp: 1845.0000 - precision: 0.1067 - recall: 0.5689 - val_loss: 0.7018 - val_fn: 291.0000 - val_fp: 4640.0000 - val_tn: 5758.0000 - val_tp: 550.0000 - val_precision: 0.1060 - val_recall: 0.6540\n",
      "Epoch 37/100\n",
      "22/22 - 1s - loss: 2.9617e-05 - fn: 1365.0000 - fp: 15944.0000 - tn: 25769.0000 - tp: 1878.0000 - precision: 0.1054 - recall: 0.5791 - val_loss: 0.7063 - val_fn: 282.0000 - val_fp: 4754.0000 - val_tn: 5644.0000 - val_tp: 559.0000 - val_precision: 0.1052 - val_recall: 0.6647\n",
      "Epoch 38/100\n",
      "22/22 - 1s - loss: 2.9588e-05 - fn: 1397.0000 - fp: 15502.0000 - tn: 26211.0000 - tp: 1846.0000 - precision: 0.1064 - recall: 0.5692 - val_loss: 0.7010 - val_fn: 296.0000 - val_fp: 4605.0000 - val_tn: 5793.0000 - val_tp: 545.0000 - val_precision: 0.1058 - val_recall: 0.6480\n",
      "Epoch 39/100\n",
      "22/22 - 1s - loss: 2.9538e-05 - fn: 1377.0000 - fp: 15559.0000 - tn: 26154.0000 - tp: 1866.0000 - precision: 0.1071 - recall: 0.5754 - val_loss: 0.7009 - val_fn: 293.0000 - val_fp: 4590.0000 - val_tn: 5808.0000 - val_tp: 548.0000 - val_precision: 0.1067 - val_recall: 0.6516\n",
      "Epoch 40/100\n",
      "22/22 - 1s - loss: 2.9490e-05 - fn: 1376.0000 - fp: 15302.0000 - tn: 26411.0000 - tp: 1867.0000 - precision: 0.1087 - recall: 0.5757 - val_loss: 0.6999 - val_fn: 295.0000 - val_fp: 4557.0000 - val_tn: 5841.0000 - val_tp: 546.0000 - val_precision: 0.1070 - val_recall: 0.6492\n",
      "Epoch 41/100\n",
      "22/22 - 1s - loss: 2.9427e-05 - fn: 1361.0000 - fp: 15246.0000 - tn: 26467.0000 - tp: 1882.0000 - precision: 0.1099 - recall: 0.5803 - val_loss: 0.7016 - val_fn: 293.0000 - val_fp: 4590.0000 - val_tn: 5808.0000 - val_tp: 548.0000 - val_precision: 0.1067 - val_recall: 0.6516\n",
      "Epoch 42/100\n",
      "22/22 - 1s - loss: 2.9367e-05 - fn: 1344.0000 - fp: 15420.0000 - tn: 26293.0000 - tp: 1899.0000 - precision: 0.1096 - recall: 0.5856 - val_loss: 0.7024 - val_fn: 298.0000 - val_fp: 4592.0000 - val_tn: 5806.0000 - val_tp: 543.0000 - val_precision: 0.1057 - val_recall: 0.6457\n",
      "Epoch 43/100\n",
      "22/22 - 1s - loss: 2.9516e-05 - fn: 1399.0000 - fp: 14975.0000 - tn: 26738.0000 - tp: 1844.0000 - precision: 0.1096 - recall: 0.5686 - val_loss: 0.6972 - val_fn: 308.0000 - val_fp: 4475.0000 - val_tn: 5923.0000 - val_tp: 533.0000 - val_precision: 0.1064 - val_recall: 0.6338\n",
      "Epoch 44/100\n",
      "22/22 - 1s - loss: 2.9394e-05 - fn: 1343.0000 - fp: 15203.0000 - tn: 26510.0000 - tp: 1900.0000 - precision: 0.1111 - recall: 0.5859 - val_loss: 0.7024 - val_fn: 300.0000 - val_fp: 4576.0000 - val_tn: 5822.0000 - val_tp: 541.0000 - val_precision: 0.1057 - val_recall: 0.6433\n",
      "Epoch 45/100\n",
      "22/22 - 1s - loss: 2.9510e-05 - fn: 1404.0000 - fp: 15091.0000 - tn: 26622.0000 - tp: 1839.0000 - precision: 0.1086 - recall: 0.5671 - val_loss: 0.6995 - val_fn: 306.0000 - val_fp: 4520.0000 - val_tn: 5878.0000 - val_tp: 535.0000 - val_precision: 0.1058 - val_recall: 0.6361\n",
      "Epoch 46/100\n",
      "22/22 - 1s - loss: 2.9544e-05 - fn: 1408.0000 - fp: 15289.0000 - tn: 26424.0000 - tp: 1835.0000 - precision: 0.1072 - recall: 0.5658 - val_loss: 0.7035 - val_fn: 297.0000 - val_fp: 4604.0000 - val_tn: 5794.0000 - val_tp: 544.0000 - val_precision: 0.1057 - val_recall: 0.6468\n",
      "Epoch 47/100\n",
      "22/22 - 1s - loss: 2.9377e-05 - fn: 1366.0000 - fp: 15292.0000 - tn: 26421.0000 - tp: 1877.0000 - precision: 0.1093 - recall: 0.5788 - val_loss: 0.6956 - val_fn: 308.0000 - val_fp: 4417.0000 - val_tn: 5981.0000 - val_tp: 533.0000 - val_precision: 0.1077 - val_recall: 0.6338\n",
      "Epoch 48/100\n",
      "22/22 - 1s - loss: 2.9439e-05 - fn: 1409.0000 - fp: 14986.0000 - tn: 26727.0000 - tp: 1834.0000 - precision: 0.1090 - recall: 0.5655 - val_loss: 0.7005 - val_fn: 300.0000 - val_fp: 4538.0000 - val_tn: 5860.0000 - val_tp: 541.0000 - val_precision: 0.1065 - val_recall: 0.6433\n",
      "Epoch 49/100\n",
      "22/22 - 1s - loss: 2.9406e-05 - fn: 1369.0000 - fp: 15418.0000 - tn: 26295.0000 - tp: 1874.0000 - precision: 0.1084 - recall: 0.5779 - val_loss: 0.6964 - val_fn: 306.0000 - val_fp: 4429.0000 - val_tn: 5969.0000 - val_tp: 535.0000 - val_precision: 0.1078 - val_recall: 0.6361\n",
      "Epoch 50/100\n",
      "22/22 - 1s - loss: 2.9380e-05 - fn: 1394.0000 - fp: 14915.0000 - tn: 26798.0000 - tp: 1849.0000 - precision: 0.1103 - recall: 0.5702 - val_loss: 0.6969 - val_fn: 307.0000 - val_fp: 4444.0000 - val_tn: 5954.0000 - val_tp: 534.0000 - val_precision: 0.1073 - val_recall: 0.6350\n",
      "Epoch 51/100\n",
      "22/22 - 1s - loss: 2.9370e-05 - fn: 1406.0000 - fp: 15020.0000 - tn: 26693.0000 - tp: 1837.0000 - precision: 0.1090 - recall: 0.5665 - val_loss: 0.6998 - val_fn: 302.0000 - val_fp: 4510.0000 - val_tn: 5888.0000 - val_tp: 539.0000 - val_precision: 0.1068 - val_recall: 0.6409\n",
      "Epoch 52/100\n",
      "22/22 - 1s - loss: 2.9406e-05 - fn: 1372.0000 - fp: 15226.0000 - tn: 26487.0000 - tp: 1871.0000 - precision: 0.1094 - recall: 0.5769 - val_loss: 0.6991 - val_fn: 303.0000 - val_fp: 4496.0000 - val_tn: 5902.0000 - val_tp: 538.0000 - val_precision: 0.1069 - val_recall: 0.6397\n",
      "Epoch 53/100\n",
      "22/22 - 1s - loss: 2.9372e-05 - fn: 1385.0000 - fp: 15199.0000 - tn: 26514.0000 - tp: 1858.0000 - precision: 0.1089 - recall: 0.5729 - val_loss: 0.6954 - val_fn: 307.0000 - val_fp: 4415.0000 - val_tn: 5983.0000 - val_tp: 534.0000 - val_precision: 0.1079 - val_recall: 0.6350\n",
      "Epoch 54/100\n",
      "22/22 - 1s - loss: 2.9340e-05 - fn: 1369.0000 - fp: 14973.0000 - tn: 26740.0000 - tp: 1874.0000 - precision: 0.1112 - recall: 0.5779 - val_loss: 0.6947 - val_fn: 310.0000 - val_fp: 4406.0000 - val_tn: 5992.0000 - val_tp: 531.0000 - val_precision: 0.1076 - val_recall: 0.6314\n",
      "Epoch 55/100\n",
      "22/22 - 1s - loss: 2.9436e-05 - fn: 1411.0000 - fp: 14836.0000 - tn: 26877.0000 - tp: 1832.0000 - precision: 0.1099 - recall: 0.5649 - val_loss: 0.6981 - val_fn: 305.0000 - val_fp: 4477.0000 - val_tn: 5921.0000 - val_tp: 536.0000 - val_precision: 0.1069 - val_recall: 0.6373\n",
      "Epoch 56/100\n",
      "22/22 - 1s - loss: 2.9352e-05 - fn: 1392.0000 - fp: 14937.0000 - tn: 26776.0000 - tp: 1851.0000 - precision: 0.1103 - recall: 0.5708 - val_loss: 0.6969 - val_fn: 308.0000 - val_fp: 4456.0000 - val_tn: 5942.0000 - val_tp: 533.0000 - val_precision: 0.1068 - val_recall: 0.6338\n",
      "Epoch 57/100\n",
      "22/22 - 1s - loss: 2.9345e-05 - fn: 1363.0000 - fp: 15059.0000 - tn: 26654.0000 - tp: 1880.0000 - precision: 0.1110 - recall: 0.5797 - val_loss: 0.6961 - val_fn: 306.0000 - val_fp: 4442.0000 - val_tn: 5956.0000 - val_tp: 535.0000 - val_precision: 0.1075 - val_recall: 0.6361\n",
      "Epoch 58/100\n",
      "22/22 - 1s - loss: 2.9304e-05 - fn: 1372.0000 - fp: 15198.0000 - tn: 26515.0000 - tp: 1871.0000 - precision: 0.1096 - recall: 0.5769 - val_loss: 0.6945 - val_fn: 310.0000 - val_fp: 4424.0000 - val_tn: 5974.0000 - val_tp: 531.0000 - val_precision: 0.1072 - val_recall: 0.6314\n"
     ]
    },
    {
     "name": "stdout",
     "output_type": "stream",
     "text": [
      "Epoch 59/100\n",
      "22/22 - 1s - loss: 2.9323e-05 - fn: 1364.0000 - fp: 15161.0000 - tn: 26552.0000 - tp: 1879.0000 - precision: 0.1103 - recall: 0.5794 - val_loss: 0.6901 - val_fn: 316.0000 - val_fp: 4345.0000 - val_tn: 6053.0000 - val_tp: 525.0000 - val_precision: 0.1078 - val_recall: 0.6243\n",
      "Epoch 60/100\n",
      "22/22 - 1s - loss: 2.9311e-05 - fn: 1387.0000 - fp: 14823.0000 - tn: 26890.0000 - tp: 1856.0000 - precision: 0.1113 - recall: 0.5723 - val_loss: 0.6969 - val_fn: 304.0000 - val_fp: 4481.0000 - val_tn: 5917.0000 - val_tp: 537.0000 - val_precision: 0.1070 - val_recall: 0.6385\n",
      "Epoch 61/100\n",
      "22/22 - 1s - loss: 2.9294e-05 - fn: 1373.0000 - fp: 15079.0000 - tn: 26634.0000 - tp: 1870.0000 - precision: 0.1103 - recall: 0.5766 - val_loss: 0.6956 - val_fn: 306.0000 - val_fp: 4451.0000 - val_tn: 5947.0000 - val_tp: 535.0000 - val_precision: 0.1073 - val_recall: 0.6361\n",
      "Epoch 62/100\n",
      "22/22 - 1s - loss: 2.9383e-05 - fn: 1339.0000 - fp: 15354.0000 - tn: 26359.0000 - tp: 1904.0000 - precision: 0.1103 - recall: 0.5871 - val_loss: 0.6993 - val_fn: 301.0000 - val_fp: 4543.0000 - val_tn: 5855.0000 - val_tp: 540.0000 - val_precision: 0.1062 - val_recall: 0.6421\n",
      "Epoch 63/100\n",
      "22/22 - 1s - loss: 2.9257e-05 - fn: 1405.0000 - fp: 14682.0000 - tn: 27031.0000 - tp: 1838.0000 - precision: 0.1113 - recall: 0.5668 - val_loss: 0.6918 - val_fn: 315.0000 - val_fp: 4404.0000 - val_tn: 5994.0000 - val_tp: 526.0000 - val_precision: 0.1067 - val_recall: 0.6254\n",
      "Epoch 64/100\n",
      "22/22 - 1s - loss: 2.9258e-05 - fn: 1372.0000 - fp: 14712.0000 - tn: 27001.0000 - tp: 1871.0000 - precision: 0.1128 - recall: 0.5769 - val_loss: 0.6947 - val_fn: 310.0000 - val_fp: 4456.0000 - val_tn: 5942.0000 - val_tp: 531.0000 - val_precision: 0.1065 - val_recall: 0.6314\n",
      "Epoch 65/100\n",
      "22/22 - 1s - loss: 2.9340e-05 - fn: 1357.0000 - fp: 15255.0000 - tn: 26458.0000 - tp: 1886.0000 - precision: 0.1100 - recall: 0.5816 - val_loss: 0.7006 - val_fn: 297.0000 - val_fp: 4569.0000 - val_tn: 5829.0000 - val_tp: 544.0000 - val_precision: 0.1064 - val_recall: 0.6468\n",
      "Epoch 66/100\n",
      "22/22 - 1s - loss: 2.9238e-05 - fn: 1350.0000 - fp: 15091.0000 - tn: 26622.0000 - tp: 1893.0000 - precision: 0.1115 - recall: 0.5837 - val_loss: 0.6936 - val_fn: 309.0000 - val_fp: 4441.0000 - val_tn: 5957.0000 - val_tp: 532.0000 - val_precision: 0.1070 - val_recall: 0.6326\n",
      "Epoch 67/100\n",
      "22/22 - 1s - loss: 2.9201e-05 - fn: 1313.0000 - fp: 14792.0000 - tn: 26921.0000 - tp: 1930.0000 - precision: 0.1154 - recall: 0.5951 - val_loss: 0.6924 - val_fn: 308.0000 - val_fp: 4417.0000 - val_tn: 5981.0000 - val_tp: 533.0000 - val_precision: 0.1077 - val_recall: 0.6338\n",
      "Epoch 68/100\n",
      "22/22 - 1s - loss: 2.9234e-05 - fn: 1332.0000 - fp: 15174.0000 - tn: 26539.0000 - tp: 1911.0000 - precision: 0.1119 - recall: 0.5893 - val_loss: 0.6974 - val_fn: 299.0000 - val_fp: 4515.0000 - val_tn: 5883.0000 - val_tp: 542.0000 - val_precision: 0.1072 - val_recall: 0.6445\n",
      "Epoch 69/100\n",
      "22/22 - 1s - loss: 2.9228e-05 - fn: 1361.0000 - fp: 14952.0000 - tn: 26761.0000 - tp: 1882.0000 - precision: 0.1118 - recall: 0.5803 - val_loss: 0.6908 - val_fn: 312.0000 - val_fp: 4381.0000 - val_tn: 6017.0000 - val_tp: 529.0000 - val_precision: 0.1077 - val_recall: 0.6290\n",
      "Epoch 70/100\n",
      "22/22 - 1s - loss: 2.9215e-05 - fn: 1386.0000 - fp: 14850.0000 - tn: 26863.0000 - tp: 1857.0000 - precision: 0.1112 - recall: 0.5726 - val_loss: 0.6936 - val_fn: 306.0000 - val_fp: 4439.0000 - val_tn: 5959.0000 - val_tp: 535.0000 - val_precision: 0.1076 - val_recall: 0.6361\n",
      "Epoch 71/100\n",
      "22/22 - 1s - loss: 2.9199e-05 - fn: 1337.0000 - fp: 15017.0000 - tn: 26696.0000 - tp: 1906.0000 - precision: 0.1126 - recall: 0.5877 - val_loss: 0.6927 - val_fn: 309.0000 - val_fp: 4424.0000 - val_tn: 5974.0000 - val_tp: 532.0000 - val_precision: 0.1073 - val_recall: 0.6326\n",
      "Epoch 72/100\n",
      "22/22 - 1s - loss: 2.9118e-05 - fn: 1320.0000 - fp: 15053.0000 - tn: 26660.0000 - tp: 1923.0000 - precision: 0.1133 - recall: 0.5930 - val_loss: 0.6941 - val_fn: 306.0000 - val_fp: 4451.0000 - val_tn: 5947.0000 - val_tp: 535.0000 - val_precision: 0.1073 - val_recall: 0.6361\n",
      "Epoch 73/100\n",
      "22/22 - 1s - loss: 2.9323e-05 - fn: 1358.0000 - fp: 15065.0000 - tn: 26648.0000 - tp: 1885.0000 - precision: 0.1112 - recall: 0.5813 - val_loss: 0.6916 - val_fn: 310.0000 - val_fp: 4424.0000 - val_tn: 5974.0000 - val_tp: 531.0000 - val_precision: 0.1072 - val_recall: 0.6314\n",
      "Epoch 74/100\n",
      "22/22 - 1s - loss: 2.9097e-05 - fn: 1321.0000 - fp: 15147.0000 - tn: 26566.0000 - tp: 1922.0000 - precision: 0.1126 - recall: 0.5927 - val_loss: 0.6914 - val_fn: 310.0000 - val_fp: 4424.0000 - val_tn: 5974.0000 - val_tp: 531.0000 - val_precision: 0.1072 - val_recall: 0.6314\n",
      "Epoch 75/100\n",
      "22/22 - 1s - loss: 2.9256e-05 - fn: 1365.0000 - fp: 14840.0000 - tn: 26873.0000 - tp: 1878.0000 - precision: 0.1123 - recall: 0.5791 - val_loss: 0.6914 - val_fn: 311.0000 - val_fp: 4426.0000 - val_tn: 5972.0000 - val_tp: 530.0000 - val_precision: 0.1069 - val_recall: 0.6302\n",
      "Epoch 76/100\n",
      "22/22 - 1s - loss: 2.9143e-05 - fn: 1286.0000 - fp: 14990.0000 - tn: 26723.0000 - tp: 1957.0000 - precision: 0.1155 - recall: 0.6035 - val_loss: 0.6916 - val_fn: 309.0000 - val_fp: 4431.0000 - val_tn: 5967.0000 - val_tp: 532.0000 - val_precision: 0.1072 - val_recall: 0.6326\n",
      "Epoch 77/100\n",
      "22/22 - 1s - loss: 2.9192e-05 - fn: 1338.0000 - fp: 14953.0000 - tn: 26760.0000 - tp: 1905.0000 - precision: 0.1130 - recall: 0.5874 - val_loss: 0.6931 - val_fn: 306.0000 - val_fp: 4469.0000 - val_tn: 5929.0000 - val_tp: 535.0000 - val_precision: 0.1069 - val_recall: 0.6361\n",
      "Epoch 78/100\n",
      "22/22 - 1s - loss: 2.9167e-05 - fn: 1355.0000 - fp: 14861.0000 - tn: 26852.0000 - tp: 1888.0000 - precision: 0.1127 - recall: 0.5822 - val_loss: 0.6908 - val_fn: 308.0000 - val_fp: 4431.0000 - val_tn: 5967.0000 - val_tp: 533.0000 - val_precision: 0.1074 - val_recall: 0.6338\n",
      "Epoch 79/100\n",
      "22/22 - 1s - loss: 2.9191e-05 - fn: 1350.0000 - fp: 15007.0000 - tn: 26706.0000 - tp: 1893.0000 - precision: 0.1120 - recall: 0.5837 - val_loss: 0.6933 - val_fn: 304.0000 - val_fp: 4475.0000 - val_tn: 5923.0000 - val_tp: 537.0000 - val_precision: 0.1071 - val_recall: 0.6385\n",
      "Epoch 80/100\n",
      "22/22 - 1s - loss: 2.9135e-05 - fn: 1314.0000 - fp: 14966.0000 - tn: 26747.0000 - tp: 1929.0000 - precision: 0.1142 - recall: 0.5948 - val_loss: 0.6882 - val_fn: 312.0000 - val_fp: 4397.0000 - val_tn: 6001.0000 - val_tp: 529.0000 - val_precision: 0.1074 - val_recall: 0.6290\n",
      "Epoch 81/100\n",
      "22/22 - 1s - loss: 2.9106e-05 - fn: 1305.0000 - fp: 14948.0000 - tn: 26765.0000 - tp: 1938.0000 - precision: 0.1148 - recall: 0.5976 - val_loss: 0.6953 - val_fn: 302.0000 - val_fp: 4513.0000 - val_tn: 5885.0000 - val_tp: 539.0000 - val_precision: 0.1067 - val_recall: 0.6409\n",
      "Epoch 82/100\n",
      "22/22 - 1s - loss: 2.9124e-05 - fn: 1372.0000 - fp: 14886.0000 - tn: 26827.0000 - tp: 1871.0000 - precision: 0.1117 - recall: 0.5769 - val_loss: 0.6906 - val_fn: 309.0000 - val_fp: 4437.0000 - val_tn: 5961.0000 - val_tp: 532.0000 - val_precision: 0.1071 - val_recall: 0.6326\n",
      "Epoch 83/100\n",
      "22/22 - 1s - loss: 2.9088e-05 - fn: 1329.0000 - fp: 14963.0000 - tn: 26750.0000 - tp: 1914.0000 - precision: 0.1134 - recall: 0.5902 - val_loss: 0.6906 - val_fn: 308.0000 - val_fp: 4446.0000 - val_tn: 5952.0000 - val_tp: 533.0000 - val_precision: 0.1070 - val_recall: 0.6338\n",
      "Epoch 84/100\n",
      "22/22 - 1s - loss: 2.9155e-05 - fn: 1323.0000 - fp: 15030.0000 - tn: 26683.0000 - tp: 1920.0000 - precision: 0.1133 - recall: 0.5920 - val_loss: 0.6928 - val_fn: 303.0000 - val_fp: 4492.0000 - val_tn: 5906.0000 - val_tp: 538.0000 - val_precision: 0.1070 - val_recall: 0.6397\n",
      "Epoch 85/100\n",
      "22/22 - 1s - loss: 2.9131e-05 - fn: 1340.0000 - fp: 14993.0000 - tn: 26720.0000 - tp: 1903.0000 - precision: 0.1126 - recall: 0.5868 - val_loss: 0.6947 - val_fn: 299.0000 - val_fp: 4533.0000 - val_tn: 5865.0000 - val_tp: 542.0000 - val_precision: 0.1068 - val_recall: 0.6445\n",
      "Epoch 86/100\n",
      "22/22 - 1s - loss: 2.9105e-05 - fn: 1328.0000 - fp: 14931.0000 - tn: 26782.0000 - tp: 1915.0000 - precision: 0.1137 - recall: 0.5905 - val_loss: 0.6894 - val_fn: 304.0000 - val_fp: 4448.0000 - val_tn: 5950.0000 - val_tp: 537.0000 - val_precision: 0.1077 - val_recall: 0.6385\n",
      "Epoch 87/100\n",
      "22/22 - 1s - loss: 2.9090e-05 - fn: 1299.0000 - fp: 15161.0000 - tn: 26552.0000 - tp: 1944.0000 - precision: 0.1137 - recall: 0.5994 - val_loss: 0.6905 - val_fn: 304.0000 - val_fp: 4469.0000 - val_tn: 5929.0000 - val_tp: 537.0000 - val_precision: 0.1073 - val_recall: 0.6385\n"
     ]
    },
    {
     "name": "stdout",
     "output_type": "stream",
     "text": [
      "Epoch 88/100\n",
      "22/22 - 1s - loss: 2.9079e-05 - fn: 1324.0000 - fp: 14721.0000 - tn: 26992.0000 - tp: 1919.0000 - precision: 0.1153 - recall: 0.5917 - val_loss: 0.6887 - val_fn: 305.0000 - val_fp: 4446.0000 - val_tn: 5952.0000 - val_tp: 536.0000 - val_precision: 0.1076 - val_recall: 0.6373\n",
      "Epoch 89/100\n",
      "22/22 - 1s - loss: 2.9078e-05 - fn: 1296.0000 - fp: 15343.0000 - tn: 26370.0000 - tp: 1947.0000 - precision: 0.1126 - recall: 0.6004 - val_loss: 0.6948 - val_fn: 299.0000 - val_fp: 4553.0000 - val_tn: 5845.0000 - val_tp: 542.0000 - val_precision: 0.1064 - val_recall: 0.6445\n",
      "Epoch 90/100\n",
      "22/22 - 1s - loss: 2.9091e-05 - fn: 1321.0000 - fp: 14939.0000 - tn: 26774.0000 - tp: 1922.0000 - precision: 0.1140 - recall: 0.5927 - val_loss: 0.6871 - val_fn: 307.0000 - val_fp: 4424.0000 - val_tn: 5974.0000 - val_tp: 534.0000 - val_precision: 0.1077 - val_recall: 0.6350\n",
      "Epoch 91/100\n",
      "22/22 - 1s - loss: 2.9032e-05 - fn: 1316.0000 - fp: 14846.0000 - tn: 26867.0000 - tp: 1927.0000 - precision: 0.1149 - recall: 0.5942 - val_loss: 0.6897 - val_fn: 307.0000 - val_fp: 4466.0000 - val_tn: 5932.0000 - val_tp: 534.0000 - val_precision: 0.1068 - val_recall: 0.6350\n",
      "Epoch 92/100\n",
      "22/22 - 1s - loss: 2.8982e-05 - fn: 1309.0000 - fp: 14919.0000 - tn: 26794.0000 - tp: 1934.0000 - precision: 0.1148 - recall: 0.5964 - val_loss: 0.6900 - val_fn: 307.0000 - val_fp: 4476.0000 - val_tn: 5922.0000 - val_tp: 534.0000 - val_precision: 0.1066 - val_recall: 0.6350\n",
      "Epoch 93/100\n",
      "22/22 - 1s - loss: 2.9088e-05 - fn: 1317.0000 - fp: 15024.0000 - tn: 26689.0000 - tp: 1926.0000 - precision: 0.1136 - recall: 0.5939 - val_loss: 0.6906 - val_fn: 303.0000 - val_fp: 4494.0000 - val_tn: 5904.0000 - val_tp: 538.0000 - val_precision: 0.1069 - val_recall: 0.6397\n",
      "Epoch 94/100\n",
      "22/22 - 1s - loss: 2.8999e-05 - fn: 1296.0000 - fp: 15173.0000 - tn: 26540.0000 - tp: 1947.0000 - precision: 0.1137 - recall: 0.6004 - val_loss: 0.6924 - val_fn: 301.0000 - val_fp: 4534.0000 - val_tn: 5864.0000 - val_tp: 540.0000 - val_precision: 0.1064 - val_recall: 0.6421\n",
      "Epoch 95/100\n",
      "22/22 - 1s - loss: 2.9021e-05 - fn: 1293.0000 - fp: 14887.0000 - tn: 26826.0000 - tp: 1950.0000 - precision: 0.1158 - recall: 0.6013 - val_loss: 0.6860 - val_fn: 307.0000 - val_fp: 4426.0000 - val_tn: 5972.0000 - val_tp: 534.0000 - val_precision: 0.1077 - val_recall: 0.6350\n",
      "Epoch 96/100\n",
      "22/22 - 1s - loss: 2.9104e-05 - fn: 1309.0000 - fp: 14981.0000 - tn: 26732.0000 - tp: 1934.0000 - precision: 0.1143 - recall: 0.5964 - val_loss: 0.6908 - val_fn: 301.0000 - val_fp: 4509.0000 - val_tn: 5889.0000 - val_tp: 540.0000 - val_precision: 0.1070 - val_recall: 0.6421\n",
      "Epoch 97/100\n",
      "22/22 - 1s - loss: 2.8960e-05 - fn: 1291.0000 - fp: 15253.0000 - tn: 26460.0000 - tp: 1952.0000 - precision: 0.1135 - recall: 0.6019 - val_loss: 0.6889 - val_fn: 303.0000 - val_fp: 4484.0000 - val_tn: 5914.0000 - val_tp: 538.0000 - val_precision: 0.1071 - val_recall: 0.6397\n",
      "Epoch 98/100\n",
      "22/22 - 1s - loss: 2.9013e-05 - fn: 1329.0000 - fp: 14862.0000 - tn: 26851.0000 - tp: 1914.0000 - precision: 0.1141 - recall: 0.5902 - val_loss: 0.6890 - val_fn: 302.0000 - val_fp: 4484.0000 - val_tn: 5914.0000 - val_tp: 539.0000 - val_precision: 0.1073 - val_recall: 0.6409\n",
      "Epoch 99/100\n",
      "22/22 - 1s - loss: 2.9080e-05 - fn: 1308.0000 - fp: 15180.0000 - tn: 26533.0000 - tp: 1935.0000 - precision: 0.1131 - recall: 0.5967 - val_loss: 0.6902 - val_fn: 300.0000 - val_fp: 4515.0000 - val_tn: 5883.0000 - val_tp: 541.0000 - val_precision: 0.1070 - val_recall: 0.6433\n",
      "Epoch 100/100\n",
      "22/22 - 1s - loss: 2.9063e-05 - fn: 1318.0000 - fp: 14873.0000 - tn: 26840.0000 - tp: 1925.0000 - precision: 0.1146 - recall: 0.5936 - val_loss: 0.6882 - val_fn: 300.0000 - val_fp: 4483.0000 - val_tn: 5915.0000 - val_tp: 541.0000 - val_precision: 0.1077 - val_recall: 0.6433\n"
     ]
    }
   ],
   "source": [
    "callbacks = [callbacks.ModelCheckpoint(\"readmission_model_at_epoch_{epoch}.h5\")]\n",
    "class_weight = {0: weight_for_0, 1: weight_for_1}\n",
    "\n",
    "history = model.fit(\n",
    "    train_features,\n",
    "    train_targets,\n",
    "    batch_size=2048,\n",
    "    epochs=100,\n",
    "    verbose=2,\n",
    "    callbacks=callbacks,\n",
    "    validation_data=(val_features, val_targets),\n",
    "    class_weight=class_weight,\n",
    ") "
   ]
  },
  {
   "cell_type": "code",
   "execution_count": 16,
   "metadata": {},
   "outputs": [
    {
     "data": {
      "text/plain": [
       "array([0., 0., 1., ..., 0., 0., 0.], dtype=float32)"
      ]
     },
     "execution_count": 16,
     "metadata": {},
     "output_type": "execute_result"
    }
   ],
   "source": [
    "y_pred_val = model.predict(val_features)\n",
    "y_pred_val[y_pred_val > 0.5] = 1\n",
    "y_pred_val[y_pred_val <=0.5] = 0\n",
    "y_pred_val.reshape((y_pred_val.shape[0]))\n",
    "\n",
    "y_pred_train = model.predict(train_features)\n",
    "y_pred_train[y_pred_train > 0.5] = 1\n",
    "y_pred_train[y_pred_train <=0.5] = 0\n",
    "y_pred_train.reshape((y_pred_train.shape[0]))"
   ]
  },
  {
   "cell_type": "code",
   "execution_count": 17,
   "metadata": {},
   "outputs": [
    {
     "data": {
      "text/plain": [
       "{'False_positive_training': 16693.0,\n",
       " 'False_positive_testing': 4483.0,\n",
       " '%False_positives': 47.1,\n",
       " 'Falses_negatives_training': 1081.0,\n",
       " 'False_negatives_testing': 300.0,\n",
       " '%False_negatives': 3.1,\n",
       " 'Precision_train': 0.11,\n",
       " 'Precision_testing': 0.11,\n",
       " 'Recall_train': 0.67,\n",
       " 'Recall_testing': 0.64,\n",
       " 'F_1': 0.18}"
      ]
     },
     "execution_count": 17,
     "metadata": {},
     "output_type": "execute_result"
    }
   ],
   "source": [
    "# Squeezing\n",
    "val_targets = np.squeeze(val_targets)\n",
    "y_pred_val = np.squeeze(y_pred_val)\n",
    "train_targets = np.squeeze(train_targets)\n",
    "y_pred_train = np.squeeze(y_pred_train)\n",
    "\n",
    "# False Negative Testing\n",
    "fn_val = FalseNegatives()\n",
    "fn_val.update_state(val_targets, y_pred_val)\n",
    "fn_val = fn_val.result().numpy()\n",
    "\n",
    "# False Negative Training\n",
    "fn_train = FalseNegatives()\n",
    "fn_train.update_state(train_targets, y_pred_train)\n",
    "fn_train = fn_train.result().numpy()\n",
    "\n",
    "#False Positive Testing\n",
    "fp_val = FalsePositives()\n",
    "fp_val.update_state(val_targets, y_pred_val)\n",
    "fp_val = fp_val.result().numpy()\n",
    "#\n",
    "#False Positive Training\n",
    "fp_train = FalsePositives()\n",
    "fp_train.update_state(train_targets, y_pred_train)\n",
    "fp_train = fp_train.result().numpy()\n",
    "\n",
    "# Precision validación\n",
    "pre_val = Precision()\n",
    "pre_val.update_state(val_targets, y_pred_val)\n",
    "pre_val = pre_val.result().numpy()\n",
    "\n",
    "# Precision training\n",
    "pre_train = Precision()\n",
    "pre_train.update_state(train_targets, y_pred_train)\n",
    "pre_train = pre_train.result().numpy()\n",
    "#\n",
    "# recall testing\n",
    "re_val = Recall()\n",
    "re_val.update_state(val_targets, y_pred_val)\n",
    "re_val = re_val.result().numpy()\n",
    "#\n",
    "# recall testing\n",
    "re_train = Recall()\n",
    "re_train.update_state(train_targets, y_pred_train)\n",
    "re_train = re_train.result().numpy()\n",
    "# \n",
    "\n",
    "#metrics\n",
    "metrics = {'False_positive_training':fp_train, 'False_positive_testing':fp_val,\n",
    "           '%False_positives': np.round((fp_train+fp_val)/ len(X_train)*100,1),\n",
    "           'Falses_negatives_training':fn_train, 'False_negatives_testing':fn_val,\n",
    "           '%False_negatives': np.round((fn_train+fn_val)/ len(X_train)*100,1),\n",
    "           'Precision_train': np.round(pre_train,2), 'Precision_testing': np.round(pre_val,2),\n",
    "           'Recall_train': np.round(re_train,2), 'Recall_testing':np.round(re_val,2),\n",
    "            'F_1':np.round(2*(pre_val*re_val)/(pre_val+re_val), 2)}\n",
    "metrics"
   ]
  },
  {
   "cell_type": "code",
   "execution_count": 18,
   "metadata": {},
   "outputs": [
    {
     "data": {
      "image/png": "[encoded data removed]",
      "text/plain": [
       "<Figure size 576x396 with 1 Axes>"
      ]
     },
     "metadata": {},
     "output_type": "display_data"
    }
   ],
   "source": [
    "def plot_metric(history, metric):\n",
    "    train_metrics = history.history[metric]\n",
    "    tes_metrics = history.history['val_'+metric]\n",
    "    epochs = range(1, len(train_metrics) + 1)\n",
    "    plt.plot(epochs, train_metrics, 'bo--')\n",
    "    plt.plot(epochs, tes_metrics, 'ro-')\n",
    "    plt.title('Training and Testing  '+ metric)\n",
    "    plt.xlabel(\"Epochs\")\n",
    "    plt.ylabel(metric)\n",
    "    plt.legend([\"train_\"+metric, 'tes_'+metric])\n",
    "    plt.show()\n",
    "plot_metric(history, 'loss')"
   ]
  },
  {
   "cell_type": "markdown",
   "metadata": {},
   "source": [
    "Even when the loss in both: training and testing, show a decreasing trend, the metrics reflect that the model doesn't have a good fit specially detecting the admitted patients."
   ]
  },
  {
   "cell_type": "markdown",
   "metadata": {},
   "source": [
    "#### Model comparision"
   ]
  },
  {
   "cell_type": "markdown",
   "metadata": {},
   "source": [
    "\n",
    "\n",
    "| Model |  Precision | Recall| F1 |\n",
    "| --- | --- | --- | --- |\n",
    "|Logistic Regression           |0.333  |0.004 |0.007|\n",
    "|Weighted Logistic Regression  |0.121  |0.595 |0.202 |\n",
    "|Artificial Neuronal Network   |0.110  |0.570 | 0.180 |"
   ]
  },
  {
   "cell_type": "markdown",
   "metadata": {},
   "source": [
    "Comparing the models, any of them have a good generalization for the admitted classification."
   ]
  },
  {
   "cell_type": "markdown",
   "metadata": {},
   "source": [
    "## IV. Oversampling "
   ]
  },
  {
   "cell_type": "markdown",
   "metadata": {},
   "source": [
    "Unbalanced data substantially compromises the learning process, since most of the standard machine learning algorithms expect balanced class distribution or an equal misclassification cost. I worked with the package [imbalanced-learn](https://github.com/scikit-learn-contrib/imbalanced-learn) which offers a number of re-sampling techniques, in order to apply the SMOTE methodology where the data balancing can be performed by oversampling such that new samples are generated the smallest class to reach the balancing ratio."
   ]
  },
  {
   "cell_type": "code",
   "execution_count": 19,
   "metadata": {},
   "outputs": [
    {
     "name": "stdout",
     "output_type": "stream",
     "text": [
      "Original train dataset shape Counter({0: 52111, 1: 4084})\n",
      "Resampled train dataset shape Counter({1: 52111, 0: 52111})\n"
     ]
    }
   ],
   "source": [
    "sm=SMOTE(random_state=42)\n",
    "X_res, y_res=sm.fit_sample(X,y)\n",
    "print('Original train dataset shape %s' % Counter(y))\n",
    "print('Resampled train dataset shape %s' % Counter(y_res))"
   ]
  },
  {
   "cell_type": "code",
   "execution_count": 20,
   "metadata": {},
   "outputs": [],
   "source": [
    "X=dataset.drop([ 'Unnamed: 0','encounter_id', 'patient_nbr','readmitted', 'gender_Female'] , axis=1)\n",
    "y=dataset['readmitted']"
   ]
  },
  {
   "cell_type": "code",
   "execution_count": 21,
   "metadata": {},
   "outputs": [
    {
     "name": "stdout",
     "output_type": "stream",
     "text": [
      "Original dataset shape Counter({0: 52111, 1: 4084})\n",
      "Resampled dataset shape Counter({1: 52111, 0: 52111})\n"
     ]
    }
   ],
   "source": [
    "sm=SMOTE(random_state=42)\n",
    "X_res, y_res=sm.fit_sample(X,y)\n",
    "print('Original dataset shape %s' % Counter(y))\n",
    "print('Resampled dataset shape %s' % Counter(y_res))"
   ]
  },
  {
   "cell_type": "markdown",
   "metadata": {},
   "source": [
    "Splitting the dataset in training and testing sets."
   ]
  },
  {
   "cell_type": "code",
   "execution_count": 22,
   "metadata": {},
   "outputs": [
    {
     "name": "stdout",
     "output_type": "stream",
     "text": [
      "Training samples: 83377\n",
      "Testing samples: 20845\n",
      "Number of features: 52\n",
      "Training outcome distribution: [41688 41689]\n",
      "Testing outcome distribution: [10423 10422]\n"
     ]
    }
   ],
   "source": [
    "X_train, X_test, y_train, y_test = train_test_split(X_res, \n",
    "                                                    y_res,\n",
    "                                                    test_size=0.2,\n",
    "                                                    stratify=y_res,\n",
    "                                                    random_state=42)\n",
    "print('Training samples: {}'.format(X_train.shape[0]))\n",
    "print('Testing samples: {}'.format(X_test.shape[0]))\n",
    "print('Number of features: {}'.format(X_train.shape[1]))\n",
    "print('Training outcome distribution: {}'.format(np.bincount(y_train)))\n",
    "print('Testing outcome distribution: {}'.format(np.bincount(y_test)))"
   ]
  },
  {
   "cell_type": "markdown",
   "metadata": {},
   "source": [
    "In order to identify the best parameters for the models, I am going to use a grid search, it's imporant to realize that this part will be time consuming since the algorithm compare different models using list of parameters."
   ]
  },
  {
   "cell_type": "code",
   "execution_count": 23,
   "metadata": {},
   "outputs": [],
   "source": [
    "def best_model (model, parameter_grid):\n",
    "    def grid_search(X_train, y_train, clf, param_grid, k):\n",
    "        modelos=GridSearchCV(clf, \n",
    "                       param_grid=param_grid, \n",
    "                       cv=k,\n",
    "                       return_train_score=True)\n",
    "        modelos=modelos.fit(X_train,y_train)\n",
    "        return modelos\n",
    "\n",
    "    param_grid = parameter_grid\n",
    "\n",
    "    clf = model\n",
    "    gsearch = grid_search(X_train, y_train, clf, param_grid, k=3)\n",
    "\n",
    "    print(f'Best hyperparameters:\\n {gsearch.best_params_}')\n",
    "    print(f'Best score (validation): {gsearch.best_score_}')"
   ]
  },
  {
   "cell_type": "markdown",
   "metadata": {},
   "source": [
    "#### 1. Logistic Regression Model"
   ]
  },
  {
   "cell_type": "code",
   "execution_count": 24,
   "metadata": {},
   "outputs": [
    {
     "name": "stdout",
     "output_type": "stream",
     "text": [
      "Best hyperparameters:\n",
      " {'solver': 'newton-cg'}\n",
      "Best score (validation): 0.9514734125181267\n"
     ]
    }
   ],
   "source": [
    "logistic_model = LogisticRegression(max_iter=10000, random_state=0, class_weight='balanced')\n",
    "logistic_parameter_grid = {'solver': ['liblinear', 'saga', 'newton-cg', 'lbfgs']}\n",
    "best_model (logistic_model, logistic_parameter_grid)"
   ]
  },
  {
   "cell_type": "code",
   "execution_count": 25,
   "metadata": {},
   "outputs": [
    {
     "data": {
      "text/plain": [
       "3"
      ]
     },
     "execution_count": 25,
     "metadata": {},
     "output_type": "execute_result"
    }
   ],
   "source": [
    "3"
   ]
  },
  {
   "cell_type": "code",
   "execution_count": 26,
   "metadata": {},
   "outputs": [
    {
     "data": {
      "text/plain": [
       "(83377, 52)"
      ]
     },
     "execution_count": 26,
     "metadata": {},
     "output_type": "execute_result"
    }
   ],
   "source": [
    "X_train.shape"
   ]
  },
  {
   "cell_type": "code",
   "execution_count": 27,
   "metadata": {},
   "outputs": [
    {
     "name": "stdout",
     "output_type": "stream",
     "text": [
      "Confusion Matrix: \n",
      " [[10417     6]\n",
      " [ 1003  9419]] \n",
      "\n",
      "True Negative: 10417\n",
      "False Positive: 6\n",
      "False Negative: 1003\n",
      "True Positive: 9419 \n",
      "\n",
      "Precision: 0.999\n",
      "Recall: 0.904\n",
      "F_1: 0.949\n"
     ]
    }
   ],
   "source": [
    "classifier = LogisticRegression(max_iter=10000,random_state=0, class_weight='balanced', solver='newton-cg') ##lbfgs is the  solver defaulf\n",
    "classifier.fit(X_train, y_train)\n",
    "over_logistic_prediction = classifier.predict(X_test)\n",
    "model_performance(over_logistic_prediction)"
   ]
  },
  {
   "cell_type": "markdown",
   "metadata": {},
   "source": [
    "This model reflects a good generalization for both clases and the biggest advantages is that it is interpretable which allow us to identify the risk and protective factors."
   ]
  },
  {
   "cell_type": "code",
   "execution_count": 28,
   "metadata": {},
   "outputs": [
    {
     "data": {
      "image/png": "[encoded data removed]",
      "text/plain": [
       "<Figure size 792x720 with 1 Axes>"
      ]
     },
     "metadata": {},
     "output_type": "display_data"
    }
   ],
   "source": [
    "coeff = list(classifier.coef_[0])\n",
    "labels = list(X_train.columns)\n",
    "features = pd.DataFrame()\n",
    "features['Features'] = labels\n",
    "features['coef'] = coeff\n",
    "features.sort_values(by=['coef'], ascending=True, inplace=True)\n",
    "features['positive'] = features['coef'] > 0\n",
    "features.set_index('Features', inplace=True)\n",
    "features.coef.plot(kind='barh', figsize=(11, 10),color = features.positive.map({True: 'blue', False: 'red'}))\n",
    "plt.xlabel('Coefficient Value')\n",
    "plt.show()"
   ]
  },
  {
   "cell_type": "code",
   "execution_count": 29,
   "metadata": {},
   "outputs": [
    {
     "data": {
      "text/html": [
       "<div>\n",
       "<style scoped>\n",
       "    .dataframe tbody tr th:only-of-type {\n",
       "        vertical-align: middle;\n",
       "    }\n",
       "\n",
       "    .dataframe tbody tr th {\n",
       "        vertical-align: top;\n",
       "    }\n",
       "\n",
       "    .dataframe thead th {\n",
       "        text-align: right;\n",
       "    }\n",
       "</style>\n",
       "<table border=\"1\" class=\"dataframe\">\n",
       "  <thead>\n",
       "    <tr style=\"text-align: right;\">\n",
       "      <th></th>\n",
       "      <th>coef</th>\n",
       "      <th>exp_coef</th>\n",
       "      <th>p-values</th>\n",
       "      <th>f1</th>\n",
       "    </tr>\n",
       "    <tr>\n",
       "      <th>Features</th>\n",
       "      <th></th>\n",
       "      <th></th>\n",
       "      <th></th>\n",
       "      <th></th>\n",
       "    </tr>\n",
       "  </thead>\n",
       "  <tbody>\n",
       "    <tr>\n",
       "      <th>age_Less_fourty</th>\n",
       "      <td>-5.988992</td>\n",
       "      <td>0.002506</td>\n",
       "      <td>2.575872e-21</td>\n",
       "      <td>89.893823</td>\n",
       "    </tr>\n",
       "    <tr>\n",
       "      <th>age_Between_fourty_sixty</th>\n",
       "      <td>-5.979930</td>\n",
       "      <td>0.002529</td>\n",
       "      <td>3.615300e-62</td>\n",
       "      <td>277.329799</td>\n",
       "    </tr>\n",
       "    <tr>\n",
       "      <th>diag_type_Respiratory</th>\n",
       "      <td>-5.817190</td>\n",
       "      <td>0.002976</td>\n",
       "      <td>1.540686e-221</td>\n",
       "      <td>1015.649817</td>\n",
       "    </tr>\n",
       "    <tr>\n",
       "      <th>insulin_No</th>\n",
       "      <td>-5.761098</td>\n",
       "      <td>0.003148</td>\n",
       "      <td>9.974274e-53</td>\n",
       "      <td>233.889354</td>\n",
       "    </tr>\n",
       "    <tr>\n",
       "      <th>age_Between_sixty_seventy</th>\n",
       "      <td>-5.720345</td>\n",
       "      <td>0.003279</td>\n",
       "      <td>8.076548e-52</td>\n",
       "      <td>229.712510</td>\n",
       "    </tr>\n",
       "    <tr>\n",
       "      <th>diag_type_Genitourinary</th>\n",
       "      <td>-5.680664</td>\n",
       "      <td>0.003411</td>\n",
       "      <td>3.030946e-22</td>\n",
       "      <td>94.133214</td>\n",
       "    </tr>\n",
       "    <tr>\n",
       "      <th>diag_type_Digestive</th>\n",
       "      <td>-5.628625</td>\n",
       "      <td>0.003594</td>\n",
       "      <td>3.862252e-145</td>\n",
       "      <td>660.711327</td>\n",
       "    </tr>\n",
       "    <tr>\n",
       "      <th>diag_type_Neoplasms</th>\n",
       "      <td>-5.600650</td>\n",
       "      <td>0.003695</td>\n",
       "      <td>6.805381e-70</td>\n",
       "      <td>312.912105</td>\n",
       "    </tr>\n",
       "    <tr>\n",
       "      <th>insulin_Steady</th>\n",
       "      <td>-5.551707</td>\n",
       "      <td>0.003881</td>\n",
       "      <td>0.000000e+00</td>\n",
       "      <td>1811.143640</td>\n",
       "    </tr>\n",
       "    <tr>\n",
       "      <th>age_Greater_seventy</th>\n",
       "      <td>-5.543223</td>\n",
       "      <td>0.003914</td>\n",
       "      <td>3.587714e-124</td>\n",
       "      <td>563.599718</td>\n",
       "    </tr>\n",
       "    <tr>\n",
       "      <th>diag_type_Musculoskeletal</th>\n",
       "      <td>-5.531842</td>\n",
       "      <td>0.003959</td>\n",
       "      <td>0.000000e+00</td>\n",
       "      <td>3577.612331</td>\n",
       "    </tr>\n",
       "    <tr>\n",
       "      <th>diag_type_Injury</th>\n",
       "      <td>-5.517611</td>\n",
       "      <td>0.004015</td>\n",
       "      <td>8.551744e-01</td>\n",
       "      <td>0.033314</td>\n",
       "    </tr>\n",
       "    <tr>\n",
       "      <th>diag_type_Other</th>\n",
       "      <td>-5.475382</td>\n",
       "      <td>0.004189</td>\n",
       "      <td>1.219428e-242</td>\n",
       "      <td>1113.974912</td>\n",
       "    </tr>\n",
       "    <tr>\n",
       "      <th>insulin_Up</th>\n",
       "      <td>-5.450163</td>\n",
       "      <td>0.004296</td>\n",
       "      <td>0.000000e+00</td>\n",
       "      <td>3992.264027</td>\n",
       "    </tr>\n",
       "    <tr>\n",
       "      <th>insulin_Down</th>\n",
       "      <td>-5.284141</td>\n",
       "      <td>0.005071</td>\n",
       "      <td>1.781179e-53</td>\n",
       "      <td>237.330076</td>\n",
       "    </tr>\n",
       "    <tr>\n",
       "      <th>diag_type_Circulatory</th>\n",
       "      <td>-5.270940</td>\n",
       "      <td>0.005139</td>\n",
       "      <td>9.570939e-115</td>\n",
       "      <td>519.988911</td>\n",
       "    </tr>\n",
       "    <tr>\n",
       "      <th>diag_type_Diabetes</th>\n",
       "      <td>-5.019435</td>\n",
       "      <td>0.006608</td>\n",
       "      <td>8.992780e-142</td>\n",
       "      <td>645.107873</td>\n",
       "    </tr>\n",
       "    <tr>\n",
       "      <th>race_Other</th>\n",
       "      <td>-4.894891</td>\n",
       "      <td>0.007485</td>\n",
       "      <td>7.728137e-128</td>\n",
       "      <td>580.571992</td>\n",
       "    </tr>\n",
       "    <tr>\n",
       "      <th>race_AfricanAmerican</th>\n",
       "      <td>-4.857303</td>\n",
       "      <td>0.007771</td>\n",
       "      <td>0.000000e+00</td>\n",
       "      <td>3746.153068</td>\n",
       "    </tr>\n",
       "    <tr>\n",
       "      <th>race_Hispanic</th>\n",
       "      <td>-4.703297</td>\n",
       "      <td>0.009065</td>\n",
       "      <td>9.112684e-258</td>\n",
       "      <td>1184.533961</td>\n",
       "    </tr>\n",
       "    <tr>\n",
       "      <th>glipizide_No</th>\n",
       "      <td>-4.643752</td>\n",
       "      <td>0.009622</td>\n",
       "      <td>0.000000e+00</td>\n",
       "      <td>4362.428171</td>\n",
       "    </tr>\n",
       "    <tr>\n",
       "      <th>glipizide_Steady</th>\n",
       "      <td>-4.528779</td>\n",
       "      <td>0.010794</td>\n",
       "      <td>0.000000e+00</td>\n",
       "      <td>2479.531991</td>\n",
       "    </tr>\n",
       "    <tr>\n",
       "      <th>race_Caucasian</th>\n",
       "      <td>-4.519632</td>\n",
       "      <td>0.010893</td>\n",
       "      <td>0.000000e+00</td>\n",
       "      <td>1747.920289</td>\n",
       "    </tr>\n",
       "    <tr>\n",
       "      <th>A1Cresult_8</th>\n",
       "      <td>-4.505206</td>\n",
       "      <td>0.011051</td>\n",
       "      <td>0.000000e+00</td>\n",
       "      <td>6531.736389</td>\n",
       "    </tr>\n",
       "    <tr>\n",
       "      <th>A1Cresult_7</th>\n",
       "      <td>-4.478908</td>\n",
       "      <td>0.011346</td>\n",
       "      <td>0.000000e+00</td>\n",
       "      <td>3126.114124</td>\n",
       "    </tr>\n",
       "    <tr>\n",
       "      <th>A1Cresult_Norm</th>\n",
       "      <td>-4.469283</td>\n",
       "      <td>0.011456</td>\n",
       "      <td>2.399758e-148</td>\n",
       "      <td>675.574763</td>\n",
       "    </tr>\n",
       "    <tr>\n",
       "      <th>glipizide_Up</th>\n",
       "      <td>-4.465605</td>\n",
       "      <td>0.011498</td>\n",
       "      <td>0.000000e+00</td>\n",
       "      <td>2190.174026</td>\n",
       "    </tr>\n",
       "    <tr>\n",
       "      <th>race_Asian</th>\n",
       "      <td>-4.414023</td>\n",
       "      <td>0.012106</td>\n",
       "      <td>1.699267e-275</td>\n",
       "      <td>1267.313863</td>\n",
       "    </tr>\n",
       "    <tr>\n",
       "      <th>metformin_Up</th>\n",
       "      <td>-4.370965</td>\n",
       "      <td>0.012639</td>\n",
       "      <td>0.000000e+00</td>\n",
       "      <td>2043.731561</td>\n",
       "    </tr>\n",
       "    <tr>\n",
       "      <th>metformin_Steady</th>\n",
       "      <td>-4.352306</td>\n",
       "      <td>0.012877</td>\n",
       "      <td>1.087357e-81</td>\n",
       "      <td>367.299187</td>\n",
       "    </tr>\n",
       "    <tr>\n",
       "      <th>metformin_No</th>\n",
       "      <td>-4.244395</td>\n",
       "      <td>0.014344</td>\n",
       "      <td>0.000000e+00</td>\n",
       "      <td>1508.358226</td>\n",
       "    </tr>\n",
       "    <tr>\n",
       "      <th>A1Cresult_None</th>\n",
       "      <td>-4.109135</td>\n",
       "      <td>0.016422</td>\n",
       "      <td>0.000000e+00</td>\n",
       "      <td>2114.485581</td>\n",
       "    </tr>\n",
       "    <tr>\n",
       "      <th>glyburide_Steady</th>\n",
       "      <td>-4.061560</td>\n",
       "      <td>0.017222</td>\n",
       "      <td>1.846159e-22</td>\n",
       "      <td>95.115700</td>\n",
       "    </tr>\n",
       "    <tr>\n",
       "      <th>glipizide_Down</th>\n",
       "      <td>-4.013539</td>\n",
       "      <td>0.018069</td>\n",
       "      <td>0.000000e+00</td>\n",
       "      <td>2209.627182</td>\n",
       "    </tr>\n",
       "    <tr>\n",
       "      <th>glyburide_No</th>\n",
       "      <td>-4.006950</td>\n",
       "      <td>0.018189</td>\n",
       "      <td>2.482708e-288</td>\n",
       "      <td>1327.296322</td>\n",
       "    </tr>\n",
       "    <tr>\n",
       "      <th>glyburide_Down</th>\n",
       "      <td>-3.938752</td>\n",
       "      <td>0.019472</td>\n",
       "      <td>3.756591e-271</td>\n",
       "      <td>1247.020989</td>\n",
       "    </tr>\n",
       "    <tr>\n",
       "      <th>metformin_Down</th>\n",
       "      <td>-3.916434</td>\n",
       "      <td>0.019912</td>\n",
       "      <td>1.797752e-232</td>\n",
       "      <td>1066.577942</td>\n",
       "    </tr>\n",
       "    <tr>\n",
       "      <th>glyburide_Up</th>\n",
       "      <td>-3.808390</td>\n",
       "      <td>0.022184</td>\n",
       "      <td>2.623479e-239</td>\n",
       "      <td>1098.437553</td>\n",
       "    </tr>\n",
       "    <tr>\n",
       "      <th>admission_type</th>\n",
       "      <td>-0.567759</td>\n",
       "      <td>0.566794</td>\n",
       "      <td>0.000000e+00</td>\n",
       "      <td>2682.773341</td>\n",
       "    </tr>\n",
       "    <tr>\n",
       "      <th>Admision_source</th>\n",
       "      <td>-0.534693</td>\n",
       "      <td>0.585849</td>\n",
       "      <td>0.000000e+00</td>\n",
       "      <td>3202.504530</td>\n",
       "    </tr>\n",
       "    <tr>\n",
       "      <th>change</th>\n",
       "      <td>-0.226155</td>\n",
       "      <td>0.797594</td>\n",
       "      <td>3.024913e-42</td>\n",
       "      <td>185.725676</td>\n",
       "    </tr>\n",
       "    <tr>\n",
       "      <th>diabetesMed</th>\n",
       "      <td>-0.098075</td>\n",
       "      <td>0.906581</td>\n",
       "      <td>6.391153e-119</td>\n",
       "      <td>539.303042</td>\n",
       "    </tr>\n",
       "    <tr>\n",
       "      <th>gender_Male</th>\n",
       "      <td>-0.076279</td>\n",
       "      <td>0.926558</td>\n",
       "      <td>0.000000e+00</td>\n",
       "      <td>3838.154228</td>\n",
       "    </tr>\n",
       "    <tr>\n",
       "      <th>num_procedures</th>\n",
       "      <td>-0.067476</td>\n",
       "      <td>0.934750</td>\n",
       "      <td>1.311233e-88</td>\n",
       "      <td>399.224490</td>\n",
       "    </tr>\n",
       "    <tr>\n",
       "      <th>number_outpatient</th>\n",
       "      <td>-0.043566</td>\n",
       "      <td>0.957370</td>\n",
       "      <td>2.639579e-26</td>\n",
       "      <td>112.677119</td>\n",
       "    </tr>\n",
       "    <tr>\n",
       "      <th>time_in_hospital</th>\n",
       "      <td>-0.005454</td>\n",
       "      <td>0.994561</td>\n",
       "      <td>4.246395e-319</td>\n",
       "      <td>1471.258214</td>\n",
       "    </tr>\n",
       "    <tr>\n",
       "      <th>num_lab_procedures</th>\n",
       "      <td>0.002851</td>\n",
       "      <td>1.002856</td>\n",
       "      <td>0.000000e+00</td>\n",
       "      <td>1897.742371</td>\n",
       "    </tr>\n",
       "    <tr>\n",
       "      <th>num_medications</th>\n",
       "      <td>0.003132</td>\n",
       "      <td>1.003137</td>\n",
       "      <td>1.081908e-51</td>\n",
       "      <td>229.128731</td>\n",
       "    </tr>\n",
       "    <tr>\n",
       "      <th>number_emergency</th>\n",
       "      <td>0.025404</td>\n",
       "      <td>1.025730</td>\n",
       "      <td>1.334746e-37</td>\n",
       "      <td>164.411731</td>\n",
       "    </tr>\n",
       "    <tr>\n",
       "      <th>number_diagnoses</th>\n",
       "      <td>0.053412</td>\n",
       "      <td>1.054865</td>\n",
       "      <td>2.021509e-129</td>\n",
       "      <td>587.897777</td>\n",
       "    </tr>\n",
       "    <tr>\n",
       "      <th>Discharged_type</th>\n",
       "      <td>0.294494</td>\n",
       "      <td>1.342446</td>\n",
       "      <td>0.000000e+00</td>\n",
       "      <td>1961.064300</td>\n",
       "    </tr>\n",
       "    <tr>\n",
       "      <th>number_inpatient</th>\n",
       "      <td>0.313581</td>\n",
       "      <td>1.368317</td>\n",
       "      <td>4.059957e-52</td>\n",
       "      <td>231.085985</td>\n",
       "    </tr>\n",
       "  </tbody>\n",
       "</table>\n",
       "</div>"
      ],
      "text/plain": [
       "                               coef  exp_coef       p-values           f1\n",
       "Features                                                                 \n",
       "age_Less_fourty           -5.988992  0.002506   2.575872e-21    89.893823\n",
       "age_Between_fourty_sixty  -5.979930  0.002529   3.615300e-62   277.329799\n",
       "diag_type_Respiratory     -5.817190  0.002976  1.540686e-221  1015.649817\n",
       "insulin_No                -5.761098  0.003148   9.974274e-53   233.889354\n",
       "age_Between_sixty_seventy -5.720345  0.003279   8.076548e-52   229.712510\n",
       "diag_type_Genitourinary   -5.680664  0.003411   3.030946e-22    94.133214\n",
       "diag_type_Digestive       -5.628625  0.003594  3.862252e-145   660.711327\n",
       "diag_type_Neoplasms       -5.600650  0.003695   6.805381e-70   312.912105\n",
       "insulin_Steady            -5.551707  0.003881   0.000000e+00  1811.143640\n",
       "age_Greater_seventy       -5.543223  0.003914  3.587714e-124   563.599718\n",
       "diag_type_Musculoskeletal -5.531842  0.003959   0.000000e+00  3577.612331\n",
       "diag_type_Injury          -5.517611  0.004015   8.551744e-01     0.033314\n",
       "diag_type_Other           -5.475382  0.004189  1.219428e-242  1113.974912\n",
       "insulin_Up                -5.450163  0.004296   0.000000e+00  3992.264027\n",
       "insulin_Down              -5.284141  0.005071   1.781179e-53   237.330076\n",
       "diag_type_Circulatory     -5.270940  0.005139  9.570939e-115   519.988911\n",
       "diag_type_Diabetes        -5.019435  0.006608  8.992780e-142   645.107873\n",
       "race_Other                -4.894891  0.007485  7.728137e-128   580.571992\n",
       "race_AfricanAmerican      -4.857303  0.007771   0.000000e+00  3746.153068\n",
       "race_Hispanic             -4.703297  0.009065  9.112684e-258  1184.533961\n",
       "glipizide_No              -4.643752  0.009622   0.000000e+00  4362.428171\n",
       "glipizide_Steady          -4.528779  0.010794   0.000000e+00  2479.531991\n",
       "race_Caucasian            -4.519632  0.010893   0.000000e+00  1747.920289\n",
       "A1Cresult_8               -4.505206  0.011051   0.000000e+00  6531.736389\n",
       "A1Cresult_7               -4.478908  0.011346   0.000000e+00  3126.114124\n",
       "A1Cresult_Norm            -4.469283  0.011456  2.399758e-148   675.574763\n",
       "glipizide_Up              -4.465605  0.011498   0.000000e+00  2190.174026\n",
       "race_Asian                -4.414023  0.012106  1.699267e-275  1267.313863\n",
       "metformin_Up              -4.370965  0.012639   0.000000e+00  2043.731561\n",
       "metformin_Steady          -4.352306  0.012877   1.087357e-81   367.299187\n",
       "metformin_No              -4.244395  0.014344   0.000000e+00  1508.358226\n",
       "A1Cresult_None            -4.109135  0.016422   0.000000e+00  2114.485581\n",
       "glyburide_Steady          -4.061560  0.017222   1.846159e-22    95.115700\n",
       "glipizide_Down            -4.013539  0.018069   0.000000e+00  2209.627182\n",
       "glyburide_No              -4.006950  0.018189  2.482708e-288  1327.296322\n",
       "glyburide_Down            -3.938752  0.019472  3.756591e-271  1247.020989\n",
       "metformin_Down            -3.916434  0.019912  1.797752e-232  1066.577942\n",
       "glyburide_Up              -3.808390  0.022184  2.623479e-239  1098.437553\n",
       "admission_type            -0.567759  0.566794   0.000000e+00  2682.773341\n",
       "Admision_source           -0.534693  0.585849   0.000000e+00  3202.504530\n",
       "change                    -0.226155  0.797594   3.024913e-42   185.725676\n",
       "diabetesMed               -0.098075  0.906581  6.391153e-119   539.303042\n",
       "gender_Male               -0.076279  0.926558   0.000000e+00  3838.154228\n",
       "num_procedures            -0.067476  0.934750   1.311233e-88   399.224490\n",
       "number_outpatient         -0.043566  0.957370   2.639579e-26   112.677119\n",
       "time_in_hospital          -0.005454  0.994561  4.246395e-319  1471.258214\n",
       "num_lab_procedures         0.002851  1.002856   0.000000e+00  1897.742371\n",
       "num_medications            0.003132  1.003137   1.081908e-51   229.128731\n",
       "number_emergency           0.025404  1.025730   1.334746e-37   164.411731\n",
       "number_diagnoses           0.053412  1.054865  2.021509e-129   587.897777\n",
       "Discharged_type            0.294494  1.342446   0.000000e+00  1961.064300\n",
       "number_inpatient           0.313581  1.368317   4.059957e-52   231.085985"
      ]
     },
     "execution_count": 29,
     "metadata": {},
     "output_type": "execute_result"
    }
   ],
   "source": [
    "features['exp_coef'] = np.exp(features['coef'])\n",
    "\n",
    "p_values= list(f_regression(X_train, y_train,center=True)[1])\n",
    "f= list(f_regression(X_train, y_train,center=True)[0])\n",
    "features['p-values'] = p_values\n",
    "features['f1']=f\n",
    "features=features.drop(['positive'], axis=1)\n",
    "features"
   ]
  },
  {
   "cell_type": "markdown",
   "metadata": {},
   "source": [
    "### 2. KNeighbors"
   ]
  },
  {
   "cell_type": "markdown",
   "metadata": {},
   "source": [
    "No parameter tecnique, the classification rule checks the closest k-neighbors and based on the distribution within classes classify the new observation. "
   ]
  },
  {
   "cell_type": "code",
   "execution_count": 30,
   "metadata": {},
   "outputs": [
    {
     "name": "stdout",
     "output_type": "stream",
     "text": [
      "Best hyperparameters:\n",
      " {'n_neighbors': 2}\n",
      "Best score (validation): 0.8944672701915483\n"
     ]
    }
   ],
   "source": [
    "kn_model = KNeighborsClassifier()\n",
    "kn_parameter_grid = {'n_neighbors':[2,5, 10, 50]}\n",
    "best_model (kn_model, kn_parameter_grid)"
   ]
  },
  {
   "cell_type": "code",
   "execution_count": 31,
   "metadata": {},
   "outputs": [
    {
     "name": "stdout",
     "output_type": "stream",
     "text": [
      "Confusion Matrix: \n",
      " [[ 8693  1730]\n",
      " [   93 10329]] \n",
      "\n",
      "True Negative: 8693\n",
      "False Positive: 1730\n",
      "False Negative: 93\n",
      "True Positive: 10329 \n",
      "\n",
      "Precision: 0.857\n",
      "Recall: 0.991\n",
      "F_1: 0.919\n"
     ]
    }
   ],
   "source": [
    "classifier = KNeighborsClassifier(n_neighbors=2)\n",
    "classifier.fit(X_train, y_train)\n",
    "k_prediction = classifier.predict(X_test)\n",
    "model_performance(k_prediction)"
   ]
  },
  {
   "cell_type": "markdown",
   "metadata": {},
   "source": [
    "This model is better classifying admitted than no-admitted according to the precission and recall comparision."
   ]
  },
  {
   "cell_type": "markdown",
   "metadata": {},
   "source": [
    "### 3. Decision Tree Classifier"
   ]
  },
  {
   "cell_type": "markdown",
   "metadata": {},
   "source": [
    "Non-parametric supervised learning machine learning algorithm invariant under scaling, create biased trees if some classes dominate for that reason was not implemented with the unbalance dataset."
   ]
  },
  {
   "cell_type": "code",
   "execution_count": 32,
   "metadata": {},
   "outputs": [
    {
     "name": "stdout",
     "output_type": "stream",
     "text": [
      "Best hyperparameters:\n",
      " {'criterion': 'entropy', 'max_depth': 19}\n",
      "Best score (validation): 0.9198699505589762\n"
     ]
    }
   ],
   "source": [
    "tree_model = DecisionTreeClassifier(random_state=42)\n",
    "tree_parameter_grid = {\"max_depth\": range(5, 60), \"criterion\": [\"gini\", \"entropy\"],}\n",
    "best_model (tree_model, tree_parameter_grid)"
   ]
  },
  {
   "cell_type": "code",
   "execution_count": 33,
   "metadata": {},
   "outputs": [
    {
     "name": "stdout",
     "output_type": "stream",
     "text": [
      "Confusion Matrix: \n",
      " [[9665  758]\n",
      " [ 833 9589]] \n",
      "\n",
      "True Negative: 9665\n",
      "False Positive: 758\n",
      "False Negative: 833\n",
      "True Positive: 9589 \n",
      "\n",
      "Precision: 0.927\n",
      "Recall: 0.92\n",
      "F_1: 0.923\n"
     ]
    }
   ],
   "source": [
    "tree_model = DecisionTreeClassifier(max_depth=19, criterion='entropy',random_state=42) # vamos a usar un árbol de profundidad 2\n",
    "tree_model.fit(X_train, y_train)\n",
    "pred_tree=tree_model.predict(X_test) \n",
    "model_performance(pred_tree)"
   ]
  },
  {
   "cell_type": "code",
   "execution_count": 34,
   "metadata": {},
   "outputs": [
    {
     "name": "stderr",
     "output_type": "stream",
     "text": [
      "/Users/anmarphy/opt/anaconda3/lib/python3.8/site-packages/sklearn/base.py:209: FutureWarning: From version 0.24, get_params will raise an AttributeError if a parameter cannot be retrieved as an instance attribute. Previously it would return None.\n",
      "  warnings.warn('From version 0.24, get_params will raise an '\n"
     ]
    },
    {
     "data": {
      "image/png": "[encoded data removed]",
      "text/plain": [
       "<Figure size 720x1080 with 1 Axes>"
      ]
     },
     "metadata": {},
     "output_type": "display_data"
    }
   ],
   "source": [
    "plt.figure(figsize=(10,15))\n",
    "viz = FeatureImportances(tree_model)\n",
    "viz.fit(X_res, y_res)\n",
    "viz.show()\n",
    "plt.show()"
   ]
  },
  {
   "cell_type": "markdown",
   "metadata": {},
   "source": [
    "This model classify with a similar goodness both of the admitted classes."
   ]
  },
  {
   "cell_type": "markdown",
   "metadata": {},
   "source": [
    "### 4. Random Forest"
   ]
  },
  {
   "cell_type": "markdown",
   "metadata": {},
   "source": [
    "Combine average of several individual trees and . The predictions of a single tree are highly sensitive to noise in its training set, the average of many trees is not, as long as the trees are not correlated."
   ]
  },
  {
   "cell_type": "code",
   "execution_count": 35,
   "metadata": {},
   "outputs": [
    {
     "name": "stdout",
     "output_type": "stream",
     "text": [
      "Best hyperparameters:\n",
      " {'criterion': 'entropy', 'max_depth': 32}\n",
      "Best score (validation): 0.9589335139335008\n"
     ]
    }
   ],
   "source": [
    "random_forest_model = RandomForestClassifier(random_state=0)\n",
    "random_forest_param_grid = {\"criterion\": [\"gini\", \"entropy\"],\n",
    "             \"max_depth\": range(5, 40)} #estaba en 60\n",
    "best_model (random_forest_model, random_forest_param_grid)"
   ]
  },
  {
   "cell_type": "code",
   "execution_count": 36,
   "metadata": {},
   "outputs": [
    {
     "name": "stdout",
     "output_type": "stream",
     "text": [
      "Confusion Matrix: \n",
      " [[10402    21]\n",
      " [  816  9606]] \n",
      "\n",
      "True Negative: 10402\n",
      "False Positive: 21\n",
      "False Negative: 816\n",
      "True Positive: 9606 \n",
      "\n",
      "Precision: 0.998\n",
      "Recall: 0.922\n",
      "F_1: 0.958\n"
     ]
    }
   ],
   "source": [
    "clf=RandomForestClassifier(criterion='entropy', max_depth=32,random_state=0)\n",
    "clf.fit(X_train,y_train)\n",
    "random_f_prediction=clf.predict(X_test)\n",
    "model_performance(random_f_prediction)"
   ]
  },
  {
   "cell_type": "code",
   "execution_count": 37,
   "metadata": {},
   "outputs": [
    {
     "data": {
      "text/plain": [
       "num_lab_procedures           0.062553\n",
       "num_medications              0.054287\n",
       "age_Greater_seventy          0.046009\n",
       "age_Between_fourty_sixty     0.045650\n",
       "insulin_Steady               0.045343\n",
       "insulin_No                   0.039313\n",
       "time_in_hospital             0.039046\n",
       "age_Between_sixty_seventy    0.035943\n",
       "metformin_No                 0.030080\n",
       "number_diagnoses             0.028832\n",
       "num_procedures               0.028002\n",
       "age_Less_fourty              0.027872\n",
       "change                       0.027047\n",
       "race_Caucasian               0.025139\n",
       "diag_type_Respiratory        0.025019\n",
       "race_AfricanAmerican         0.024924\n",
       "Admision_source              0.024394\n",
       "diag_type_Other              0.023703\n",
       "admission_type               0.022558\n",
       "diag_type_Circulatory        0.022483\n",
       "insulin_Up                   0.020686\n",
       "diabetesMed                  0.020606\n",
       "gender_Male                  0.020383\n",
       "diag_type_Digestive          0.019911\n",
       "insulin_Down                 0.019089\n",
       "number_inpatient             0.018915\n",
       "metformin_Steady             0.018629\n",
       "glipizide_No                 0.017194\n",
       "diag_type_Injury             0.014850\n",
       "diag_type_Genitourinary      0.013629\n",
       "glyburide_No                 0.012564\n",
       "Discharged_type              0.012377\n",
       "glipizide_Steady             0.011095\n",
       "number_outpatient            0.010637\n",
       "A1Cresult_None               0.010262\n",
       "A1Cresult_8                  0.009098\n",
       "diag_type_Musculoskeletal    0.008968\n",
       "glyburide_Steady             0.008126\n",
       "diag_type_Neoplasms          0.007741\n",
       "race_Hispanic                0.007282\n",
       "number_emergency             0.006991\n",
       "A1Cresult_Norm               0.006850\n",
       "race_Other                   0.006326\n",
       "A1Cresult_7                  0.005404\n",
       "metformin_Up                 0.004075\n",
       "race_Asian                   0.002777\n",
       "metformin_Down               0.002158\n",
       "glipizide_Up                 0.001348\n",
       "glyburide_Up                 0.001337\n",
       "glyburide_Down               0.001054\n",
       "glipizide_Down               0.001037\n",
       "diag_type_Diabetes           0.000405\n",
       "dtype: float64"
      ]
     },
     "execution_count": 37,
     "metadata": {},
     "output_type": "execute_result"
    }
   ],
   "source": [
    "feature_imp = pd.Series(clf.feature_importances_,index=X_train.columns).sort_values(ascending=False)\n",
    "feature_imp"
   ]
  },
  {
   "cell_type": "markdown",
   "metadata": {},
   "source": [
    "This is the best model for classification purposes, however the Random forest is a black box since we dont have a path to describe the variables inside the model in case that we want to identify the risk and protective variables."
   ]
  },
  {
   "cell_type": "markdown",
   "metadata": {},
   "source": [
    "#### Model Comparision\n",
    "\n",
    "| Model |  Precision | Recall| F1 |\n",
    "| --- | --- | --- | --- |\n",
    "|Logistic Regression            | 0.999| 0.904 | 0.949 |\n",
    "|KNeighbors   |  0.857 | 0.991 | 0.919 |\n",
    "|Decision Tree Classifier    | 0.927 | 0.920 | 0.923 |\n",
    "|Random Forest  |  0.998 | 0.922 | 0.958 |\n",
    "\n",
    "\n",
    "Depending on the purpose of the research we have two models with a really good generalization:\n",
    "* If the main task is classify the patients minimizing the error of readmission, my suggestion is to use the Random forest model since it has the best performance.\n",
    "* For identifying risk and protective factor my recommendation is to use the Logistic regression since it is the second best model and it is interpretable."
   ]
  },
  {
   "cell_type": "code",
   "execution_count": 38,
   "metadata": {},
   "outputs": [
    {
     "name": "stdout",
     "output_type": "stream",
     "text": [
      "\n",
      "Total running time: 93.3 minutes\n"
     ]
    }
   ],
   "source": [
    "time_end = time.time()\n",
    "print(f\"\\nTotal running time: {round((time_end - time_start)/60,1)} minutes\")"
   ]
  },
  {
   "cell_type": "markdown",
   "metadata": {},
   "source": [
    "## V. Insights"
   ]
  },
  {
   "cell_type": "markdown",
   "metadata": {},
   "source": [
    "The insights below are associated with the logistic model obtained with the oversampling approach."
   ]
  },
  {
   "cell_type": "markdown",
   "metadata": {},
   "source": [
    "#### Protective factors\n",
    "- Admission type: People who were not in Emergency decrease their odds in 43% of being readmitted compared with those in Emergency. \n",
    "- Change: Changing the diabetics medications decrease in 20% the  odds of being readmitted.\n",
    "- DiabetesMed: For patients with any diabetic medication prescribed the odds of being readmitted decrease in 9%.\n",
    "- Gender: Being male decrease in 7% the odds of being readmitted.\n",
    "- Number of procedures: For each adittional procedures different than lab tests performed during the encounter the odds of being readmitted decrease in 6%.\n",
    "- Number outpatient: for each adittional outpatient visit the odds of being readmitted decrease in 4%.\n",
    "- Time in hospital: For each adittional day in the hospital the odds of being readmitted decrease in 1%\n",
    "\n",
    "\n",
    "#### Risk factors\n",
    "- Number inpatient: for each aditional number of inpatient visits the odds of being readmitted increase in 37%\n",
    "- Discharged type: when the discharge is not at home the odds of being readmitted increase in 34%\n",
    "- Number diagnoses: for each aditional number of diagnoses reported into the system the odds of being readmitted increase in 5%\n",
    "- Number emergency: for each aditional number of emergency visits of the patient in the year preceding the odds of being readmitted increase in 3%\n",
    "- Age factors: Increasing the age increase the chance of being readmitted.\n",
    "- Primary diagnostic: when the primary diagnostic is diabetes the patiend has a higher odds of being readmitted, follow by Circulatory diagnostic. The other ones dont reflect a sigificative effect in being readmitted."
   ]
  },
  {
   "cell_type": "markdown",
   "metadata": {},
   "source": [
    "## VI. Conclusions"
   ]
  },
  {
   "cell_type": "markdown",
   "metadata": {},
   "source": [
    "* Using oversampling to balance the classes guarantee a better performance since most of the machine learning algorithms needs a similar proportion into the classes.\n",
    "* After checking with various machine learning models, for classify the patients minimizing the error of readmission, my suggestion is to use the *Random forest* model since it has the best performance.\n",
    "* For identifying risk and protective risk my suggestion is the *Logistic Regression* model since it is the second best model and it is interpretable.\n",
    "    * The top three of protective factors are: not being in Emergency as admission type, have any change in the diabetics medications and  have any diabetic medication.\n",
    "    * When the patient has been more in contact with the hospital: more days in the hospital, more procedures or more outpatient visits, the odds of being readmitted decrease.\n",
    "    * The top three of risk factors are: number of inpatient visits, the discharge is not at home,  number of diagnoses reported into the system."
   ]
  },
  {
   "cell_type": "markdown",
   "metadata": {},
   "source": [
    "# VII. Experimentación:\n",
    "  *  Random search en vez de grid search\n",
    "  * Usar un framework de optimización de parámetros como Optuna\n",
    "  * Ampliar la cantidad de parámetros a tunear\n",
    "  *  Ensayar con otros modelos: XGboost..\n",
    "  *  Ensambles de modelos: Majority...\n",
    "  * Smote sólo para el subconjunto de training\n",
    "  * Mejorar la arquitectura de la red: Neuronas, capas...\n",
    "  * Presentar las métricas en training y testing para contrastar y evitar overfitting\n",
    "  * Incluir learning and validation curves\n",
    "  * AWS: Random Cut Forest\n",
    "  "
   ]
  },
  {
   "cell_type": "code",
   "execution_count": null,
   "metadata": {},
   "outputs": [],
   "source": []
  }
 ],
 "metadata": {
  "kernelspec": {
   "display_name": "Python 3",
   "language": "python",
   "name": "python3"
  },
  "language_info": {
   "codemirror_mode": {
    "name": "ipython",
    "version": 3
   },
   "file_extension": ".py",
   "mimetype": "text/x-python",
   "name": "python",
   "nbconvert_exporter": "python",
   "pygments_lexer": "ipython3",
   "version": "3.8.5"
  }
 },
 "nbformat": 4,
 "nbformat_minor": 4
}
